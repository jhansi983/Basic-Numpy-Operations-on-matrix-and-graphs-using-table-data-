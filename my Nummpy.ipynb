{
 "cells": [
  {
   "cell_type": "code",
   "execution_count": 1,
   "id": "11818d5c-f10e-4792-8e5e-5e2a6d62a6c9",
   "metadata": {},
   "outputs": [],
   "source": [
    "import numpy as np"
   ]
  },
  {
   "cell_type": "code",
   "execution_count": 2,
   "id": "e56c91e7-ea65-4fba-99f0-1931b481e540",
   "metadata": {},
   "outputs": [
    {
     "data": {
      "text/plain": [
       "'1.26.4'"
      ]
     },
     "execution_count": 2,
     "metadata": {},
     "output_type": "execute_result"
    }
   ],
   "source": [
    "np.__version__ # finding version"
   ]
  },
  {
   "cell_type": "code",
   "execution_count": 3,
   "id": "628a59d8-dcdf-49f3-bbb1-134c0b95e8e1",
   "metadata": {},
   "outputs": [
    {
     "name": "stdout",
     "output_type": "stream",
     "text": [
      "[ 2 78 25 96  4 51 49]\n",
      "[[2 5 6 8]\n",
      " [5 6 8 1]]\n",
      "[[ 2 33  4 45]\n",
      " [ 2  5 99 36]\n",
      " [25 45 78 96]\n",
      " [23 65 45 78]]\n",
      "[[[ 2 33  4 45]\n",
      "  [ 2  5 99 36]]\n",
      "\n",
      " [[25 45 78 96]\n",
      "  [23 65 45 78]]]\n"
     ]
    }
   ],
   "source": [
    "# crating arrays\n",
    "arr=np.array([2,78,25,96,4,51,49]) # 1-D array\n",
    "print(arr)\n",
    "arr1=np.array([[2,5,6,8],[5,6,8,1]]) # 2-D\n",
    "print(arr1)\n",
    "arr2=np.array([[2,33,4,45],[2,5,99,36],[25,45,78,96],[23,65,45,78]])\n",
    "print(arr2)\n",
    "arr3=np.array([[[2,33,4,45],[2,5,99,36]],[[25,45,78,96],[23,65,45,78]]])\n",
    "print(arr3)"
   ]
  },
  {
   "cell_type": "code",
   "execution_count": 4,
   "id": "92af5213-f3c5-4ab3-8a8f-41d2d7ed4714",
   "metadata": {},
   "outputs": [
    {
     "data": {
      "text/plain": [
       "numpy.ndarray"
      ]
     },
     "execution_count": 4,
     "metadata": {},
     "output_type": "execute_result"
    }
   ],
   "source": [
    "# finding type\n",
    "type(arr)"
   ]
  },
  {
   "cell_type": "code",
   "execution_count": 5,
   "id": "8311b789-ebe9-49c6-aeca-4b3bd27b644a",
   "metadata": {},
   "outputs": [],
   "source": [
    "# Data Type\n",
    "#11 data types\n",
    "# i = interger\n",
    "# b = bool\n",
    "# u = unsigned integre\n",
    "# f = float\n",
    "# c = complex float\n",
    "# m = timedelta\n",
    "# M = datetime\n",
    "# O = object\n",
    "# S = string\n",
    "# U = unicode string\n",
    "# V = fixed chunck of memory for other type (void)"
   ]
  },
  {
   "cell_type": "code",
   "execution_count": 6,
   "id": "962c2e85-4d40-4ee0-832a-e2862f0100ef",
   "metadata": {},
   "outputs": [
    {
     "name": "stdout",
     "output_type": "stream",
     "text": [
      "[23. 56. 12.]\n",
      "[56. 89.  1.]\n",
      "[ True  True  True]\n",
      "[56 89  1]\n",
      "[23.+0.j 56.+0.j 12.+0.j]\n",
      "[b'5' b'8' b'1']\n"
     ]
    }
   ],
   "source": [
    "# floate\n",
    "arr=np.array([23,56,12], dtype=float)\n",
    "print(arr)\n",
    "arr1=np.array([56,89,1], dtype='f')\n",
    "print(arr1)\n",
    "\n",
    "# bool\n",
    "arr=np.array([23,56,12], dtype=bool)\n",
    "print(arr)\n",
    "arr1=np.array([56,89,1], dtype='b')\n",
    "print(arr1)\n",
    "\n",
    "#Complex\n",
    "arr=np.array([23,56,12], dtype=complex)\n",
    "print(arr)\n",
    "arr1=np.array([56,89,1], dtype='c')\n",
    "print(arr1)"
   ]
  },
  {
   "cell_type": "code",
   "execution_count": 7,
   "id": "942b90e3-69cc-4bcd-b80f-9840d19631e5",
   "metadata": {},
   "outputs": [
    {
     "name": "stdout",
     "output_type": "stream",
     "text": [
      "[ 1  2  3  4  5  6  7  8  9 10 11 12 13 14 15 16 17 18 19 20 21 22 23 24]\n",
      "[ 1  3  5  7  9 11 13 15 17 19 21 23]\n"
     ]
    }
   ],
   "source": [
    "# arange\n",
    "print(np.arange(1,25))\n",
    "print(np.arange(1,25,2))"
   ]
  },
  {
   "cell_type": "code",
   "execution_count": 8,
   "id": "102abce2-d392-415b-85f4-f74b45839fcc",
   "metadata": {},
   "outputs": [],
   "source": [
    "#reshape"
   ]
  },
  {
   "cell_type": "code",
   "execution_count": 9,
   "id": "7e34fc4f-62c6-4ee0-b68b-ae29520d3be3",
   "metadata": {},
   "outputs": [
    {
     "name": "stdout",
     "output_type": "stream",
     "text": [
      "[[ 1  2]\n",
      " [ 3  4]\n",
      " [ 5  6]\n",
      " [ 7  8]\n",
      " [ 9 10]]\n"
     ]
    }
   ],
   "source": [
    "print(np.arange(1,11).reshape(5,2))"
   ]
  },
  {
   "cell_type": "code",
   "execution_count": 10,
   "id": "ab0a1edc-5db4-4a17-aff4-d62d122b6721",
   "metadata": {},
   "outputs": [
    {
     "name": "stdout",
     "output_type": "stream",
     "text": [
      "[[ 1  2  3  4  5]\n",
      " [ 6  7  8  9 10]]\n"
     ]
    }
   ],
   "source": [
    "print(np.arange(1,11).reshape(2,5))"
   ]
  },
  {
   "cell_type": "code",
   "execution_count": 11,
   "id": "518b04d8-1afb-4cd4-b576-dd3916480942",
   "metadata": {},
   "outputs": [],
   "source": [
    "# ones & Zeros"
   ]
  },
  {
   "cell_type": "code",
   "execution_count": 12,
   "id": "56341ada-328d-4256-bdea-1d7d564e1888",
   "metadata": {},
   "outputs": [
    {
     "data": {
      "text/plain": [
       "array([[1., 1., 1., 1.],\n",
       "       [1., 1., 1., 1.],\n",
       "       [1., 1., 1., 1.]])"
      ]
     },
     "execution_count": 12,
     "metadata": {},
     "output_type": "execute_result"
    }
   ],
   "source": [
    "np.ones((3,4))"
   ]
  },
  {
   "cell_type": "code",
   "execution_count": 13,
   "id": "9eb961bc-0b23-46ad-a8e4-7f6c556706a9",
   "metadata": {},
   "outputs": [
    {
     "data": {
      "text/plain": [
       "array([[0., 0., 0., 0.],\n",
       "       [0., 0., 0., 0.],\n",
       "       [0., 0., 0., 0.]])"
      ]
     },
     "execution_count": 13,
     "metadata": {},
     "output_type": "execute_result"
    }
   ],
   "source": [
    "np.zeros((3,4))"
   ]
  },
  {
   "cell_type": "code",
   "execution_count": 14,
   "id": "4295334a-48f4-4b06-98c6-583eda6ade7a",
   "metadata": {},
   "outputs": [],
   "source": [
    "# randome()"
   ]
  },
  {
   "cell_type": "code",
   "execution_count": 15,
   "id": "d757081c-07f3-4a2f-820c-d6e131f90b4d",
   "metadata": {},
   "outputs": [
    {
     "data": {
      "text/plain": [
       "array([[0.9490579 , 0.67796647, 0.39675283],\n",
       "       [0.58987562, 0.7338003 , 0.29434961],\n",
       "       [0.67291465, 0.12957972, 0.83951732],\n",
       "       [0.97870746, 0.55955017, 0.18699066]])"
      ]
     },
     "execution_count": 15,
     "metadata": {},
     "output_type": "execute_result"
    }
   ],
   "source": [
    "np.random.random((4,3))"
   ]
  },
  {
   "cell_type": "code",
   "execution_count": 16,
   "id": "58074550-c92c-4fe2-8035-df82f09daba8",
   "metadata": {},
   "outputs": [
    {
     "data": {
      "text/plain": [
       "array([-10.        ,  -7.77777778,  -5.55555556,  -3.33333333,\n",
       "        -1.11111111,   1.11111111,   3.33333333,   5.55555556,\n",
       "         7.77777778,  10.        ])"
      ]
     },
     "execution_count": 16,
     "metadata": {},
     "output_type": "execute_result"
    }
   ],
   "source": [
    "# linspace  --  linearly space or linearly separable ia a given range in equal distance\n",
    "np.linspace(-10,10,10) #here: lower range, higher range, number of items to generate\n"
   ]
  },
  {
   "cell_type": "code",
   "execution_count": 17,
   "id": "f3cdd1fb-7c48-461c-848f-3d9c7ea06403",
   "metadata": {},
   "outputs": [
    {
     "data": {
      "text/plain": [
       "array([-2. ,  0.8,  3.6,  6.4,  9.2, 12. ])"
      ]
     },
     "execution_count": 17,
     "metadata": {},
     "output_type": "execute_result"
    }
   ],
   "source": [
    "np.linspace(-2,12,6)"
   ]
  },
  {
   "cell_type": "code",
   "execution_count": 18,
   "id": "b9c47db3-f3e0-401b-b07c-8f4ad6f7b219",
   "metadata": {},
   "outputs": [
    {
     "data": {
      "text/plain": [
       "array([[1., 0., 0.],\n",
       "       [0., 1., 0.],\n",
       "       [0., 0., 1.]])"
      ]
     },
     "execution_count": 18,
     "metadata": {},
     "output_type": "execute_result"
    }
   ],
   "source": [
    "# identity\n",
    "# creating the identity matrix\n",
    "np.identity(3)"
   ]
  },
  {
   "cell_type": "code",
   "execution_count": 19,
   "id": "ec3c6479-086f-4ef0-8971-54bac99038c3",
   "metadata": {},
   "outputs": [
    {
     "data": {
      "text/plain": [
       "array([[1., 0., 0., 0., 0., 0.],\n",
       "       [0., 1., 0., 0., 0., 0.],\n",
       "       [0., 0., 1., 0., 0., 0.],\n",
       "       [0., 0., 0., 1., 0., 0.],\n",
       "       [0., 0., 0., 0., 1., 0.],\n",
       "       [0., 0., 0., 0., 0., 1.]])"
      ]
     },
     "execution_count": 19,
     "metadata": {},
     "output_type": "execute_result"
    }
   ],
   "source": [
    "np.identity(6)"
   ]
  },
  {
   "cell_type": "code",
   "execution_count": 20,
   "id": "415d9baa-0660-47ae-bfe4-5ba26eb2bebd",
   "metadata": {},
   "outputs": [
    {
     "data": {
      "text/plain": [
       "array([0, 1, 2, 3, 4, 5, 6, 7, 8, 9])"
      ]
     },
     "execution_count": 20,
     "metadata": {},
     "output_type": "execute_result"
    }
   ],
   "source": [
    "# array Attributes\n",
    "np.arange(10)"
   ]
  },
  {
   "cell_type": "code",
   "execution_count": 21,
   "id": "1dcaf990-4fbd-409a-8ac1-f2eebd6c2602",
   "metadata": {},
   "outputs": [
    {
     "data": {
      "text/plain": [
       "array([[ 0.,  1.,  2.,  3.],\n",
       "       [ 4.,  5.,  6.,  7.],\n",
       "       [ 8.,  9., 10., 11.]])"
      ]
     },
     "execution_count": 21,
     "metadata": {},
     "output_type": "execute_result"
    }
   ],
   "source": [
    "np.arange(12,dtype=float).reshape(3,4)"
   ]
  },
  {
   "cell_type": "code",
   "execution_count": 22,
   "id": "b2368039-f5d0-43c1-8c9c-d1410da83bd5",
   "metadata": {},
   "outputs": [
    {
     "data": {
      "text/plain": [
       "array([[[0, 1],\n",
       "        [2, 3]],\n",
       "\n",
       "       [[4, 5],\n",
       "        [6, 7]]])"
      ]
     },
     "execution_count": 22,
     "metadata": {},
     "output_type": "execute_result"
    }
   ],
   "source": [
    "np.arange(8).reshape(2,2,2)"
   ]
  },
  {
   "cell_type": "code",
   "execution_count": 23,
   "id": "07a8b666-124a-470e-8dfa-935234057dac",
   "metadata": {},
   "outputs": [
    {
     "name": "stdout",
     "output_type": "stream",
     "text": [
      "1\n",
      "2\n",
      "2\n",
      "3\n"
     ]
    }
   ],
   "source": [
    "# ndim -- to find given array number of dimensions\n",
    "arr=np.array([2,78,25,96,4,51,49]) \n",
    "arr1=np.array([[2,5,6,8],[5,6,8,1]]) \n",
    "arr2=np.array([[2,33,4,45],[2,5,99,36],[25,45,78,96],[23,65,45,78]])\n",
    "arr3=np.array([[[2,33,4,45],[2,5,99,36]],[[25,45,78,96],[23,65,45,78]]])\n",
    "print(arr.ndim)\n",
    "print(arr1.ndim)\n",
    "print(arr2.ndim)\n",
    "print(arr3.ndim)"
   ]
  },
  {
   "cell_type": "code",
   "execution_count": 24,
   "id": "5a181c5e-a9f4-4fd9-976f-59b8097c3aac",
   "metadata": {},
   "outputs": [
    {
     "name": "stdout",
     "output_type": "stream",
     "text": [
      "7\n",
      "8\n",
      "16\n",
      "16\n"
     ]
    }
   ],
   "source": [
    "# shape -- gives number of items\n",
    "print(arr.size)\n",
    "print(arr1.size)\n",
    "print(arr2.size)\n",
    "print(arr3.size)"
   ]
  },
  {
   "cell_type": "code",
   "execution_count": 25,
   "id": "5daeb7a0-164b-4129-a8ed-a81c1cd6e690",
   "metadata": {},
   "outputs": [
    {
     "name": "stdout",
     "output_type": "stream",
     "text": [
      "4\n",
      "4\n",
      "4\n",
      "4\n"
     ]
    }
   ],
   "source": [
    "#item size -- memory occupied by the time\n",
    "print(arr.itemsize)\n",
    "print(arr1.itemsize)\n",
    "print(arr2.itemsize)\n",
    "print(arr3.itemsize)"
   ]
  },
  {
   "cell_type": "code",
   "execution_count": 26,
   "id": "b301b27c-4d87-49f0-9e4e-b45dc2f51f7e",
   "metadata": {},
   "outputs": [
    {
     "name": "stdout",
     "output_type": "stream",
     "text": [
      "int32\n",
      "int32\n",
      "int32\n",
      "int32\n"
     ]
    }
   ],
   "source": [
    "# dtype\n",
    "print(arr.dtype)\n",
    "print(arr1.dtype)\n",
    "print(arr2.dtype)\n",
    "print(arr3.dtype)"
   ]
  },
  {
   "cell_type": "code",
   "execution_count": 27,
   "id": "6a7b6025-bb20-494a-9362-d95036b30ba2",
   "metadata": {},
   "outputs": [
    {
     "name": "stdout",
     "output_type": "stream",
     "text": [
      "[33.  22.   2.5]\n"
     ]
    },
    {
     "data": {
      "text/plain": [
       "array([33, 22,  2])"
      ]
     },
     "execution_count": 27,
     "metadata": {},
     "output_type": "execute_result"
    }
   ],
   "source": [
    "#changing Data Type\n",
    "# astype()\n",
    "x=np.array([33,22,2.5])\n",
    "print(x)\n",
    "x.astype(int)"
   ]
  },
  {
   "cell_type": "code",
   "execution_count": 28,
   "id": "8ec44f6f-4dfc-4544-82dd-03cd7efd349c",
   "metadata": {},
   "outputs": [],
   "source": [
    "# Array operations\n",
    "z1=np.arange(12).reshape(3,4)\n",
    "z2=np.arange(12,24).reshape(3,4)"
   ]
  },
  {
   "cell_type": "code",
   "execution_count": 29,
   "id": "1665e63d-4063-487c-9a09-aa1c69d8c604",
   "metadata": {},
   "outputs": [
    {
     "data": {
      "text/plain": [
       "array([[ 0,  1,  2,  3],\n",
       "       [ 4,  5,  6,  7],\n",
       "       [ 8,  9, 10, 11]])"
      ]
     },
     "execution_count": 29,
     "metadata": {},
     "output_type": "execute_result"
    }
   ],
   "source": [
    "z1"
   ]
  },
  {
   "cell_type": "code",
   "execution_count": 30,
   "id": "003b7e6a-1ae2-4a96-b9cb-0da7eb8ab75a",
   "metadata": {},
   "outputs": [
    {
     "data": {
      "text/plain": [
       "array([[12, 13, 14, 15],\n",
       "       [16, 17, 18, 19],\n",
       "       [20, 21, 22, 23]])"
      ]
     },
     "execution_count": 30,
     "metadata": {},
     "output_type": "execute_result"
    }
   ],
   "source": [
    "z2"
   ]
  },
  {
   "cell_type": "code",
   "execution_count": 31,
   "id": "0792e888-19aa-49c0-a378-9718114e4cde",
   "metadata": {},
   "outputs": [],
   "source": [
    "# scalar oerations\n",
    "#arrays include performing addition or subtraction, or multiplication \n",
    "#on each element of a Numpy array."
   ]
  },
  {
   "cell_type": "code",
   "execution_count": 32,
   "id": "21346963-d3d8-4ef4-a730-2749dc1a1a51",
   "metadata": {},
   "outputs": [
    {
     "data": {
      "text/plain": [
       "array([[ 2,  3,  4,  5],\n",
       "       [ 6,  7,  8,  9],\n",
       "       [10, 11, 12, 13]])"
      ]
     },
     "execution_count": 32,
     "metadata": {},
     "output_type": "execute_result"
    }
   ],
   "source": [
    "#arthimatic\n",
    "z1+2"
   ]
  },
  {
   "cell_type": "code",
   "execution_count": 33,
   "id": "6293988f-683a-43d9-9e15-f547169e9892",
   "metadata": {},
   "outputs": [
    {
     "data": {
      "text/plain": [
       "array([[-1,  0,  1,  2],\n",
       "       [ 3,  4,  5,  6],\n",
       "       [ 7,  8,  9, 10]])"
      ]
     },
     "execution_count": 33,
     "metadata": {},
     "output_type": "execute_result"
    }
   ],
   "source": [
    "# subtraction\n",
    "z1-1"
   ]
  },
  {
   "cell_type": "code",
   "execution_count": 34,
   "id": "1eaba94f-27ca-4e52-800e-aa8b626881fc",
   "metadata": {},
   "outputs": [
    {
     "data": {
      "text/plain": [
       "array([[ 0,  2,  4,  6],\n",
       "       [ 8, 10, 12, 14],\n",
       "       [16, 18, 20, 22]])"
      ]
     },
     "execution_count": 34,
     "metadata": {},
     "output_type": "execute_result"
    }
   ],
   "source": [
    "# Multiplication\n",
    "z1 * 2"
   ]
  },
  {
   "cell_type": "code",
   "execution_count": 35,
   "id": "85acd0a2-ff86-4bfd-abe2-065de3258aa6",
   "metadata": {},
   "outputs": [
    {
     "data": {
      "text/plain": [
       "array([[  0,   1,   4,   9],\n",
       "       [ 16,  25,  36,  49],\n",
       "       [ 64,  81, 100, 121]])"
      ]
     },
     "execution_count": 35,
     "metadata": {},
     "output_type": "execute_result"
    }
   ],
   "source": [
    "# power\n",
    "z1**2"
   ]
  },
  {
   "cell_type": "code",
   "execution_count": 36,
   "id": "663bc337-5dcc-4619-97c0-eaad8e1e1202",
   "metadata": {},
   "outputs": [
    {
     "data": {
      "text/plain": [
       "array([[0, 1, 0, 1],\n",
       "       [0, 1, 0, 1],\n",
       "       [0, 1, 0, 1]], dtype=int32)"
      ]
     },
     "execution_count": 36,
     "metadata": {},
     "output_type": "execute_result"
    }
   ],
   "source": [
    "# Modulo\n",
    "z1%2"
   ]
  },
  {
   "cell_type": "code",
   "execution_count": 37,
   "id": "8e9cb7c9-2222-4e3d-a77f-f6c22b619c2a",
   "metadata": {},
   "outputs": [],
   "source": [
    "# relational operators\n",
    "# The relational operators are also known as comparison operators, their main function is to \n",
    "# return either a true or false based on the value of operands. "
   ]
  },
  {
   "cell_type": "code",
   "execution_count": 38,
   "id": "7a18eb01-07f3-4c57-9675-9184bff635f8",
   "metadata": {},
   "outputs": [
    {
     "data": {
      "text/plain": [
       "array([[12, 13, 14, 15],\n",
       "       [16, 17, 18, 19],\n",
       "       [20, 21, 22, 23]])"
      ]
     },
     "execution_count": 38,
     "metadata": {},
     "output_type": "execute_result"
    }
   ],
   "source": [
    "z2"
   ]
  },
  {
   "cell_type": "code",
   "execution_count": 39,
   "id": "d8ff6704-9cc0-4d6b-9f96-1fb6b8a6db1f",
   "metadata": {},
   "outputs": [
    {
     "data": {
      "text/plain": [
       "array([[ True,  True,  True,  True],\n",
       "       [ True,  True,  True,  True],\n",
       "       [ True,  True,  True,  True]])"
      ]
     },
     "execution_count": 39,
     "metadata": {},
     "output_type": "execute_result"
    }
   ],
   "source": [
    "z2 > 2"
   ]
  },
  {
   "cell_type": "code",
   "execution_count": 40,
   "id": "b94dd122-0803-4e54-9c8b-10d639838c4e",
   "metadata": {},
   "outputs": [
    {
     "data": {
      "text/plain": [
       "array([[False, False, False, False],\n",
       "       [False, False, False, False],\n",
       "       [False, False, False, False]])"
      ]
     },
     "execution_count": 40,
     "metadata": {},
     "output_type": "execute_result"
    }
   ],
   "source": [
    "z2 < 2"
   ]
  },
  {
   "cell_type": "code",
   "execution_count": 41,
   "id": "f78c585d-b64b-4f63-9bd8-f80e7bd2c493",
   "metadata": {},
   "outputs": [],
   "source": [
    "# Vector operation"
   ]
  },
  {
   "cell_type": "code",
   "execution_count": 42,
   "id": "6e2cb6e8-29b1-4b6e-a77e-f1ec283b44ad",
   "metadata": {},
   "outputs": [
    {
     "data": {
      "text/plain": [
       "array([[12, 14, 16, 18],\n",
       "       [20, 22, 24, 26],\n",
       "       [28, 30, 32, 34]])"
      ]
     },
     "execution_count": 42,
     "metadata": {},
     "output_type": "execute_result"
    }
   ],
   "source": [
    "z1 + z2"
   ]
  },
  {
   "cell_type": "code",
   "execution_count": 43,
   "id": "c9c5c12b-0565-497a-a586-8f57f25d2478",
   "metadata": {},
   "outputs": [
    {
     "data": {
      "text/plain": [
       "array([[  0,  13,  28,  45],\n",
       "       [ 64,  85, 108, 133],\n",
       "       [160, 189, 220, 253]])"
      ]
     },
     "execution_count": 43,
     "metadata": {},
     "output_type": "execute_result"
    }
   ],
   "source": [
    "z1 * z2"
   ]
  },
  {
   "cell_type": "code",
   "execution_count": 44,
   "id": "38c4f2f2-b14d-42ed-be1b-921535db132a",
   "metadata": {},
   "outputs": [
    {
     "data": {
      "text/plain": [
       "array([[-12, -12, -12, -12],\n",
       "       [-12, -12, -12, -12],\n",
       "       [-12, -12, -12, -12]])"
      ]
     },
     "execution_count": 44,
     "metadata": {},
     "output_type": "execute_result"
    }
   ],
   "source": [
    "z1-z2"
   ]
  },
  {
   "cell_type": "code",
   "execution_count": 45,
   "id": "bdc96f66-4292-4169-9e98-9bc47f751bd7",
   "metadata": {},
   "outputs": [
    {
     "data": {
      "text/plain": [
       "array([[0.        , 0.07692308, 0.14285714, 0.2       ],\n",
       "       [0.25      , 0.29411765, 0.33333333, 0.36842105],\n",
       "       [0.4       , 0.42857143, 0.45454545, 0.47826087]])"
      ]
     },
     "execution_count": 45,
     "metadata": {},
     "output_type": "execute_result"
    }
   ],
   "source": [
    "z1 / z2"
   ]
  },
  {
   "cell_type": "code",
   "execution_count": 46,
   "id": "f32121e5-5457-4011-af75-e729e0ddbf93",
   "metadata": {},
   "outputs": [
    {
     "data": {
      "text/plain": [
       "array([[72.,  0., 14.],\n",
       "       [60., 43., 85.],\n",
       "       [93., 15., 89.]])"
      ]
     },
     "execution_count": 46,
     "metadata": {},
     "output_type": "execute_result"
    }
   ],
   "source": [
    "# Array Functions\n",
    "a1=np.random.random((3,3))\n",
    "a1 = np.round(a1*100)\n",
    "a1"
   ]
  },
  {
   "cell_type": "code",
   "execution_count": 47,
   "id": "67ea8219-8b5a-4c68-a259-d51455df4c87",
   "metadata": {},
   "outputs": [
    {
     "name": "stdout",
     "output_type": "stream",
     "text": [
      "93.0\n",
      "0.0\n",
      "471.0\n",
      "0.0\n"
     ]
    }
   ],
   "source": [
    "print(np.max(a1))\n",
    "print(np.min(a1))\n",
    "print(np.sum(a1))\n",
    "print(np.prod(a1))"
   ]
  },
  {
   "cell_type": "code",
   "execution_count": 48,
   "id": "272b8666-0991-426c-9696-b7542d835c6a",
   "metadata": {},
   "outputs": [
    {
     "data": {
      "text/plain": [
       "array([72., 85., 93.])"
      ]
     },
     "execution_count": 48,
     "metadata": {},
     "output_type": "execute_result"
    }
   ],
   "source": [
    "# if we want maximum of every row\n",
    "np.max(a1, axis=1)"
   ]
  },
  {
   "cell_type": "code",
   "execution_count": 49,
   "id": "3c380693-d497-497c-9bba-8abc5e77fb5b",
   "metadata": {},
   "outputs": [
    {
     "data": {
      "text/plain": [
       "array([93., 43., 89.])"
      ]
     },
     "execution_count": 49,
     "metadata": {},
     "output_type": "execute_result"
    }
   ],
   "source": [
    "# if we want maximum of every colum\n",
    "np.max(a1, axis=0)"
   ]
  },
  {
   "cell_type": "code",
   "execution_count": 50,
   "id": "975baac1-1e10-4549-81f2-87f5cc4f7527",
   "metadata": {},
   "outputs": [
    {
     "data": {
      "text/plain": [
       "array([     0., 219300., 124155.])"
      ]
     },
     "execution_count": 50,
     "metadata": {},
     "output_type": "execute_result"
    }
   ],
   "source": [
    "# if we want product of every column\n",
    "np.prod(a1, axis=1)"
   ]
  },
  {
   "cell_type": "code",
   "execution_count": 51,
   "id": "aed05c3e-7203-475f-b628-6977cbfc7a19",
   "metadata": {},
   "outputs": [
    {
     "data": {
      "text/plain": [
       "array([401760.,      0., 105910.])"
      ]
     },
     "execution_count": 51,
     "metadata": {},
     "output_type": "execute_result"
    }
   ],
   "source": [
    "# if we want maximum of every column\n",
    "np.prod(a1, axis=0)"
   ]
  },
  {
   "cell_type": "code",
   "execution_count": 52,
   "id": "55bffbea-1374-4eb8-89df-96670b2775f2",
   "metadata": {},
   "outputs": [],
   "source": [
    "# statistic related functions"
   ]
  },
  {
   "cell_type": "code",
   "execution_count": 53,
   "id": "d89636ef-cfd1-4abd-9f00-1fab2cf15429",
   "metadata": {},
   "outputs": [
    {
     "name": "stdout",
     "output_type": "stream",
     "text": [
      "0.4252559692520665\n",
      "[0.52696628 0.60627213 0.47190078 0.09588469]\n",
      "[0.41121162 0.21136254 0.65319375]\n"
     ]
    }
   ],
   "source": [
    "a1=np.random.random((3,4))\n",
    "\n",
    "# mean\n",
    "print(np.mean(a1)) # mean\n",
    "print(a1.mean(axis=0)) # mean of every column\n",
    "print(a1.mean(axis=1))# mean of every row"
   ]
  },
  {
   "cell_type": "code",
   "execution_count": 54,
   "id": "8581c71e-d2b6-49ba-829f-023d0852beaf",
   "metadata": {},
   "outputs": [
    {
     "name": "stdout",
     "output_type": "stream",
     "text": [
      "0.3446091544132669\n",
      "[0.39718145 0.18065397 0.75650998]\n",
      "[0.58976777 0.72211302 0.4781828  0.12837054]\n"
     ]
    }
   ],
   "source": [
    "# median\n",
    "print(np.median(a1)) #median\n",
    "print(np.median(a1, axis=1)) # column median\n",
    "print(np.median(a1, axis=0)) # row median"
   ]
  },
  {
   "cell_type": "code",
   "execution_count": 55,
   "id": "6bb66aac-d6c1-43db-b3d3-163c64cd3c97",
   "metadata": {},
   "outputs": [
    {
     "name": "stdout",
     "output_type": "stream",
     "text": [
      "0.3052702186985614\n",
      "[0.25061495 0.17111078 0.29929866]\n",
      "[0.23652393 0.33519291 0.21573526 0.06439764]\n"
     ]
    }
   ],
   "source": [
    "# standard deviation\n",
    "print(np.std(a1))\n",
    "print(np.std(a1, axis=1)) # row\n",
    "print(np.std(a1, axis=0)) # column"
   ]
  },
  {
   "cell_type": "code",
   "execution_count": 56,
   "id": "fef3bb52-8167-45d4-acc4-a9aea032ab87",
   "metadata": {},
   "outputs": [
    {
     "name": "stdout",
     "output_type": "stream",
     "text": [
      "0.09318990642426751\n",
      "[0.06280786 0.0292789  0.08957969]\n",
      "[0.05594357 0.11235428 0.0465417  0.00414706]\n"
     ]
    }
   ],
   "source": [
    "# variance\n",
    "print(np.var(a1))\n",
    "print(np.var(a1, axis=1)) # column\n",
    "print(np.var(a1, axis=0)) # row"
   ]
  },
  {
   "cell_type": "code",
   "execution_count": 57,
   "id": "0c63a696-5027-4f8b-abb9-4be9daa9e7e0",
   "metadata": {},
   "outputs": [],
   "source": [
    "# Trignometery functions"
   ]
  },
  {
   "cell_type": "code",
   "execution_count": 58,
   "id": "4b80273c-e675-47fb-b2c3-005d0fdbbcad",
   "metadata": {},
   "outputs": [
    {
     "data": {
      "text/plain": [
       "array([[0.55616803, 0.66097178, 0.20317076, 0.12801826],\n",
       "       [0.20947255, 0.1497075 , 0.46016657, 0.00595939],\n",
       "       [0.70334735, 0.81133427, 0.66904597, 0.15272408]])"
      ]
     },
     "execution_count": 58,
     "metadata": {},
     "output_type": "execute_result"
    }
   ],
   "source": [
    "# sin\n",
    "np.sin(a1)"
   ]
  },
  {
   "cell_type": "code",
   "execution_count": 59,
   "id": "45c9d88d-a209-4905-b819-e7855b8e952a",
   "metadata": {},
   "outputs": [
    {
     "data": {
      "text/plain": [
       "array([[0.83106986, 0.75041076, 0.97914332, 0.99177181],\n",
       "       [0.97781453, 0.98873033, 0.8878326 , 0.99998224],\n",
       "       [0.71084633, 0.5845825 , 0.74322102, 0.98826887]])"
      ]
     },
     "execution_count": 59,
     "metadata": {},
     "output_type": "execute_result"
    }
   ],
   "source": [
    "# cos\n",
    "np.cos(a1)"
   ]
  },
  {
   "cell_type": "code",
   "execution_count": 60,
   "id": "2b7434d5-1770-48eb-b145-82222844f183",
   "metadata": {},
   "outputs": [
    {
     "data": {
      "text/plain": [
       "array([[0.66921935, 0.8808133 , 0.20749849, 0.12908036],\n",
       "       [0.21422524, 0.15141389, 0.5183033 , 0.0059595 ],\n",
       "       [0.98945062, 1.38788668, 0.90019785, 0.15453697]])"
      ]
     },
     "execution_count": 60,
     "metadata": {},
     "output_type": "execute_result"
    }
   ],
   "source": [
    "# tan\n",
    "np.tan(a1)"
   ]
  },
  {
   "cell_type": "code",
   "execution_count": 61,
   "id": "535d0a92-8e0f-48a6-9b18-26362ba517cb",
   "metadata": {},
   "outputs": [
    {
     "data": {
      "text/plain": [
       "array([[114, 120, 126],\n",
       "       [378, 400, 422],\n",
       "       [642, 680, 718]])"
      ]
     },
     "execution_count": 61,
     "metadata": {},
     "output_type": "execute_result"
    }
   ],
   "source": [
    "# dot product\n",
    "# The numpy module of Python provides \n",
    "# a function to perform the dot product of two arrays.\n",
    "d1=np.arange(12).reshape(3,4)\n",
    "d2=np.arange(12,24).reshape(4,3)\n",
    "np.dot(d1,d2) # dot product"
   ]
  },
  {
   "cell_type": "code",
   "execution_count": 62,
   "id": "64167eb9-99c9-4bf5-b176-f17cae04b585",
   "metadata": {},
   "outputs": [
    {
     "data": {
      "text/plain": [
       "array([[1.62754791e+05, 4.42413392e+05, 1.20260428e+06],\n",
       "       [3.26901737e+06, 8.88611052e+06, 2.41549528e+07],\n",
       "       [6.56599691e+07, 1.78482301e+08, 4.85165195e+08],\n",
       "       [1.31881573e+09, 3.58491285e+09, 9.74480345e+09]])"
      ]
     },
     "execution_count": 62,
     "metadata": {},
     "output_type": "execute_result"
    }
   ],
   "source": [
    "# log and exponents\n",
    "np.exp(d2)"
   ]
  },
  {
   "cell_type": "code",
   "execution_count": 63,
   "id": "10edbd51-2d24-410c-b404-884d747f8a72",
   "metadata": {},
   "outputs": [],
   "source": [
    "# round / floor/ceil"
   ]
  },
  {
   "cell_type": "code",
   "execution_count": 64,
   "id": "3f918e1b-ee0d-4088-a856-a72e187d5fca",
   "metadata": {},
   "outputs": [
    {
     "name": "stdout",
     "output_type": "stream",
     "text": [
      "[1.2 2.7 3.5 4.9]\n",
      "[1. 3. 4. 5.]\n"
     ]
    }
   ],
   "source": [
    "# round\n",
    "# 1.single\n",
    "arr = np.array([1.2,2.7,3.5,4.9])\n",
    "print(arr)\n",
    "print(np.round(arr))"
   ]
  },
  {
   "cell_type": "code",
   "execution_count": 65,
   "id": "9e1bc0a3-2e24-402e-b11b-0371d213e6f7",
   "metadata": {},
   "outputs": [
    {
     "name": "stdout",
     "output_type": "stream",
     "text": [
      "[1.234 2.567 3.891]\n",
      "[1.23 2.57 3.89]\n"
     ]
    }
   ],
   "source": [
    "# 2.decimal --duble \n",
    "arr=np.array([1.234, 2.567, 3.891])\n",
    "print(arr)\n",
    "print(np.round(arr, decimals=2)) # round 2 decimals"
   ]
  },
  {
   "cell_type": "code",
   "execution_count": 66,
   "id": "4b5d6918-7eb6-41a1-a423-804f268f2a8b",
   "metadata": {},
   "outputs": [
    {
     "data": {
      "text/plain": [
       "array([[36., 92., 81.],\n",
       "       [95., 72., 38.]])"
      ]
     },
     "execution_count": 66,
     "metadata": {},
     "output_type": "execute_result"
    }
   ],
   "source": [
    "# 3.ramdomly\n",
    "np.round(np.random.random((2,3))*100)"
   ]
  },
  {
   "cell_type": "code",
   "execution_count": 67,
   "id": "f879c916-0fba-45ff-a5bc-a8ec174e1a8f",
   "metadata": {},
   "outputs": [
    {
     "data": {
      "text/plain": [
       "array([1., 2., 3., 4.])"
      ]
     },
     "execution_count": 67,
     "metadata": {},
     "output_type": "execute_result"
    }
   ],
   "source": [
    "# Floor ???\n",
    "# he numpy.floor() function returns the largest integer \n",
    "# less than or equal to each element of an array.\n",
    "\n",
    "arr=np.array([1.2,2.7,3.5,4.6])\n",
    "np.floor(arr)"
   ]
  },
  {
   "cell_type": "code",
   "execution_count": 68,
   "id": "b72e1455-33b9-423d-8d1a-5c96b2a8cb55",
   "metadata": {},
   "outputs": [
    {
     "data": {
      "text/plain": [
       "array([[32., 77., 30.],\n",
       "       [39., 85., 25.]])"
      ]
     },
     "execution_count": 68,
     "metadata": {},
     "output_type": "execute_result"
    }
   ],
   "source": [
    "np.floor(np.random.random((2,3))*100)"
   ]
  },
  {
   "cell_type": "code",
   "execution_count": 69,
   "id": "7b81cb04-847a-4cd5-aeba-9de1bdeec427",
   "metadata": {},
   "outputs": [
    {
     "data": {
      "text/plain": [
       "array([2., 3., 4., 5.])"
      ]
     },
     "execution_count": 69,
     "metadata": {},
     "output_type": "execute_result"
    }
   ],
   "source": [
    "# ceil ???\n",
    "# The numpy.ceil() function returns the smallest integer \n",
    "#greater than or equal to each element of an array.\n",
    "\n",
    "arr=np.array([1.2, 2.7, 3.5, 4.9])\n",
    "np.ceil(arr)"
   ]
  },
  {
   "cell_type": "code",
   "execution_count": 70,
   "id": "488f21b0-2f53-48fd-8aab-6e0e28d3867a",
   "metadata": {},
   "outputs": [
    {
     "name": "stdout",
     "output_type": "stream",
     "text": [
      "[0 1 2 3 4 5 6 7 8 9]\n",
      "[[ 0  1  2  3]\n",
      " [ 4  5  6  7]\n",
      " [ 8  9 10 11]]\n",
      "[[[0 1]\n",
      "  [2 3]]\n",
      "\n",
      " [[4 5]\n",
      "  [6 7]]]\n"
     ]
    }
   ],
   "source": [
    "# Indexing and sclising\n",
    "p1=np.arange(10)\n",
    "p2=np.arange(12).reshape(3,4)\n",
    "p3=np.arange(8).reshape(2,2,2)\n",
    "print(p1)\n",
    "print(p2)\n",
    "print(p3)"
   ]
  },
  {
   "cell_type": "code",
   "execution_count": 71,
   "id": "c05b38a5-734f-4c2c-a244-ac0bb57946ae",
   "metadata": {},
   "outputs": [
    {
     "name": "stdout",
     "output_type": "stream",
     "text": [
      "0\n"
     ]
    },
    {
     "data": {
      "text/plain": [
       "9"
      ]
     },
     "execution_count": 71,
     "metadata": {},
     "output_type": "execute_result"
    }
   ],
   "source": [
    "# indexing 1d array\n",
    "print(p1[0])\n",
    "p1[-1]"
   ]
  },
  {
   "cell_type": "code",
   "execution_count": 72,
   "id": "b893741a-e6cb-492a-be12-86e36c3c152e",
   "metadata": {},
   "outputs": [
    {
     "name": "stdout",
     "output_type": "stream",
     "text": [
      "6\n",
      "11\n",
      "4\n"
     ]
    }
   ],
   "source": [
    "# indexing 2D array\n",
    "print(p2[1,2]) # 1st row 2nd col\n",
    "print(p2[2,3]) # 2nd row 3rd col\n",
    "print(p2[1,0]) # 1st row 0th col"
   ]
  },
  {
   "cell_type": "code",
   "execution_count": 73,
   "id": "41e0efe1-9ae0-4909-8d6d-eba55894a3d1",
   "metadata": {},
   "outputs": [
    {
     "name": "stdout",
     "output_type": "stream",
     "text": [
      "5\n",
      "2\n",
      "0\n",
      "6\n"
     ]
    }
   ],
   "source": [
    "#indexing on 3D array\n",
    "print(p3[1,0,1]) # fectching desired element : 5\n",
    "print(p3[0,1,0]) # e:2\n",
    "print(p3[0,0,0]) # e:0\n",
    "print(p3[1,1,0]) # e:6"
   ]
  },
  {
   "cell_type": "code",
   "execution_count": 74,
   "id": "96195ed5-54a6-4518-b4e4-da724608fb54",
   "metadata": {},
   "outputs": [
    {
     "name": "stdout",
     "output_type": "stream",
     "text": [
      "[0 1 2 3 4 5 6 7 8 9]\n",
      "[2 3 4]\n",
      "[2 4]\n"
     ]
    }
   ],
   "source": [
    "# Slicing\n",
    "# fetching multiple items\n",
    "print(p1)\n",
    "print(p1[2:5])\n",
    "print(p1[2:5:2])"
   ]
  },
  {
   "cell_type": "code",
   "execution_count": 75,
   "id": "446cb601-f272-47bc-b509-e11c815d875f",
   "metadata": {},
   "outputs": [
    {
     "name": "stdout",
     "output_type": "stream",
     "text": [
      "[[ 0  1  2  3]\n",
      " [ 4  5  6  7]\n",
      " [ 8  9 10 11]]\n",
      "[0 1 2 3]\n",
      "[ 2  6 10]\n"
     ]
    }
   ],
   "source": [
    "# 2D slicing\n",
    "print(p2)\n",
    "print(p2[0, :]) # oth colum \n",
    "print(p2[:,2]) # 2nd row"
   ]
  },
  {
   "cell_type": "code",
   "execution_count": 76,
   "id": "bfdc6783-2965-4b60-b026-1a9989b32637",
   "metadata": {},
   "outputs": [
    {
     "name": "stdout",
     "output_type": "stream",
     "text": [
      "[[ 4  5  6  7]\n",
      " [ 8  9 10 11]]\n",
      "[[ 5  6]\n",
      " [ 9 10]]\n"
     ]
    }
   ],
   "source": [
    "# fetch 5,6 and 9,10\n",
    "print(p2[1:3]) # for rows\n",
    "print(p2[1:3, 1:3]) # for col"
   ]
  },
  {
   "cell_type": "code",
   "execution_count": 77,
   "id": "cca38242-38e2-4d61-b4bf-2da04d45bb32",
   "metadata": {},
   "outputs": [
    {
     "name": "stdout",
     "output_type": "stream",
     "text": [
      "[[ 0  3]\n",
      " [ 8 11]]\n"
     ]
    }
   ],
   "source": [
    "# fectch 0,3 and 8,11\n",
    "print(p2[::2, ::3])"
   ]
  },
  {
   "cell_type": "code",
   "execution_count": 78,
   "id": "e1634d50-2c8a-4e4f-8ad5-ba6f0e6adf74",
   "metadata": {},
   "outputs": [
    {
     "name": "stdout",
     "output_type": "stream",
     "text": [
      "[[ 1  3]\n",
      " [ 9 11]]\n"
     ]
    }
   ],
   "source": [
    "#fetch 1,3 and 9,11\n",
    "print(p2[::2, 1::2])"
   ]
  },
  {
   "cell_type": "code",
   "execution_count": 79,
   "id": "36307294-e975-4dac-9117-a90b7f02a739",
   "metadata": {},
   "outputs": [
    {
     "name": "stdout",
     "output_type": "stream",
     "text": [
      "[[ 0  1  2  3]\n",
      " [ 8  9 10 11]]\n"
     ]
    }
   ],
   "source": [
    "print(p2[::2]) # for rows"
   ]
  },
  {
   "cell_type": "code",
   "execution_count": 80,
   "id": "23a8a42c-cbf2-40ea-9631-dc7b7b86033a",
   "metadata": {},
   "outputs": [
    {
     "data": {
      "text/plain": [
       "array([[ 1,  3],\n",
       "       [ 9, 11]])"
      ]
     },
     "execution_count": 80,
     "metadata": {},
     "output_type": "execute_result"
    }
   ],
   "source": [
    "p2[::2 ,1::2] # columns "
   ]
  },
  {
   "cell_type": "code",
   "execution_count": 81,
   "id": "be23c09a-754d-4921-9116-3f238f45f826",
   "metadata": {},
   "outputs": [
    {
     "data": {
      "text/plain": [
       "array([[0, 1, 2, 3],\n",
       "       [4, 5, 6, 7]])"
      ]
     },
     "execution_count": 81,
     "metadata": {},
     "output_type": "execute_result"
    }
   ],
   "source": [
    "p2[0:2] # first fetched rows "
   ]
  },
  {
   "cell_type": "code",
   "execution_count": 82,
   "id": "c1a74de6-9532-4135-b61f-6dd1888cf7f7",
   "metadata": {},
   "outputs": [
    {
     "data": {
      "text/plain": [
       "array([[1, 2, 3],\n",
       "       [5, 6, 7]])"
      ]
     },
     "execution_count": 82,
     "metadata": {},
     "output_type": "execute_result"
    }
   ],
   "source": [
    "p2[0:2 ,1: ] # for column "
   ]
  },
  {
   "cell_type": "code",
   "execution_count": 83,
   "id": "03f23f6d-3698-47dc-9469-50a9d65fce59",
   "metadata": {},
   "outputs": [
    {
     "data": {
      "text/plain": [
       "array([[0, 1, 2, 3],\n",
       "       [4, 5, 6, 7]])"
      ]
     },
     "execution_count": 83,
     "metadata": {},
     "output_type": "execute_result"
    }
   ],
   "source": [
    "p2[0:2] # for rows "
   ]
  },
  {
   "cell_type": "code",
   "execution_count": 84,
   "id": "55cfc4ce-d634-460e-83e7-c73f8a0ffa72",
   "metadata": {},
   "outputs": [
    {
     "data": {
      "text/plain": [
       "array([[1, 3],\n",
       "       [5, 7]])"
      ]
     },
     "execution_count": 84,
     "metadata": {},
     "output_type": "execute_result"
    }
   ],
   "source": [
    "p2[0:2 ,1::2] "
   ]
  },
  {
   "cell_type": "code",
   "execution_count": 85,
   "id": "6ccee81c-a852-4d46-bcbe-4dff97acd550",
   "metadata": {},
   "outputs": [],
   "source": [
    "# Slicing in 3D "
   ]
  },
  {
   "cell_type": "code",
   "execution_count": 86,
   "id": "f941356e-1263-4f42-b170-9b65fd773d34",
   "metadata": {},
   "outputs": [
    {
     "data": {
      "text/plain": [
       "array([[[ 0,  1,  2],\n",
       "        [ 3,  4,  5],\n",
       "        [ 6,  7,  8]],\n",
       "\n",
       "       [[ 9, 10, 11],\n",
       "        [12, 13, 14],\n",
       "        [15, 16, 17]],\n",
       "\n",
       "       [[18, 19, 20],\n",
       "        [21, 22, 23],\n",
       "        [24, 25, 26]]])"
      ]
     },
     "execution_count": 86,
     "metadata": {},
     "output_type": "execute_result"
    }
   ],
   "source": [
    "p3 = np.arange(27).reshape(3,3,3) \n",
    "p3 "
   ]
  },
  {
   "cell_type": "code",
   "execution_count": 87,
   "id": "786b2864-ab64-4db2-9ba1-c98acbb91f4b",
   "metadata": {},
   "outputs": [
    {
     "data": {
      "text/plain": [
       "array([[ 9, 10, 11],\n",
       "       [12, 13, 14],\n",
       "       [15, 16, 17]])"
      ]
     },
     "execution_count": 87,
     "metadata": {},
     "output_type": "execute_result"
    }
   ],
   "source": [
    "p3[1] # fetch second matrix "
   ]
  },
  {
   "cell_type": "code",
   "execution_count": 88,
   "id": "86dd63dd-e504-493d-8672-7157208fd13b",
   "metadata": {},
   "outputs": [
    {
     "data": {
      "text/plain": [
       "array([[[ 0,  1,  2],\n",
       "        [ 3,  4,  5],\n",
       "        [ 6,  7,  8]],\n",
       "\n",
       "       [[18, 19, 20],\n",
       "        [21, 22, 23],\n",
       "        [24, 25, 26]]])"
      ]
     },
     "execution_count": 88,
     "metadata": {},
     "output_type": "execute_result"
    }
   ],
   "source": [
    "# fetch first and last\n",
    "p3[::2]"
   ]
  },
  {
   "cell_type": "code",
   "execution_count": 89,
   "id": "6fe5e025-8e0b-444d-9664-c4c5ea5def8d",
   "metadata": {},
   "outputs": [
    {
     "data": {
      "text/plain": [
       "array([[0, 1, 2],\n",
       "       [3, 4, 5],\n",
       "       [6, 7, 8]])"
      ]
     },
     "execution_count": 89,
     "metadata": {},
     "output_type": "execute_result"
    }
   ],
   "source": [
    "p3[0] # first numpy array"
   ]
  },
  {
   "cell_type": "code",
   "execution_count": 90,
   "id": "3403db3b-6756-45ea-8da2-145d0ba06aae",
   "metadata": {},
   "outputs": [
    {
     "data": {
      "text/plain": [
       "array([3, 4, 5])"
      ]
     },
     "execution_count": 90,
     "metadata": {},
     "output_type": "execute_result"
    }
   ],
   "source": [
    "p3[0,1,:] "
   ]
  },
  {
   "cell_type": "code",
   "execution_count": 91,
   "id": "c2b37e77-254d-4fcb-8cb5-47f30bb1eb7c",
   "metadata": {},
   "outputs": [
    {
     "data": {
      "text/plain": [
       "array([10, 13, 16])"
      ]
     },
     "execution_count": 91,
     "metadata": {},
     "output_type": "execute_result"
    }
   ],
   "source": [
    "p3[1,:,1] "
   ]
  },
  {
   "cell_type": "code",
   "execution_count": 92,
   "id": "559c5a51-f3fe-44fa-8204-91f50584b937",
   "metadata": {},
   "outputs": [
    {
     "data": {
      "text/plain": [
       "array([[21, 22, 23],\n",
       "       [24, 25, 26]])"
      ]
     },
     "execution_count": 92,
     "metadata": {},
     "output_type": "execute_result"
    }
   ],
   "source": [
    "p3[2, 1: ] # last two rows "
   ]
  },
  {
   "cell_type": "code",
   "execution_count": 93,
   "id": "7379c39f-8715-42fa-b731-838cf8213de0",
   "metadata": {},
   "outputs": [
    {
     "data": {
      "text/plain": [
       "array([[22, 23],\n",
       "       [25, 26]])"
      ]
     },
     "execution_count": 93,
     "metadata": {},
     "output_type": "execute_result"
    }
   ],
   "source": [
    "p3[2, 1: ,1:] # last two columns "
   ]
  },
  {
   "cell_type": "code",
   "execution_count": 94,
   "id": "09b86fdf-d298-42ce-a010-8eeba5471409",
   "metadata": {},
   "outputs": [
    {
     "data": {
      "text/plain": [
       "array([[[ 0,  1,  2],\n",
       "        [ 3,  4,  5],\n",
       "        [ 6,  7,  8]],\n",
       "\n",
       "       [[18, 19, 20],\n",
       "        [21, 22, 23],\n",
       "        [24, 25, 26]]])"
      ]
     },
     "execution_count": 94,
     "metadata": {},
     "output_type": "execute_result"
    }
   ],
   "source": [
    "p3[0::2]"
   ]
  },
  {
   "cell_type": "code",
   "execution_count": 95,
   "id": "7569186f-6bd3-45f7-85af-81ace188aa61",
   "metadata": {},
   "outputs": [
    {
     "data": {
      "text/plain": [
       "array([[ 0,  1,  2],\n",
       "       [18, 19, 20]])"
      ]
     },
     "execution_count": 95,
     "metadata": {},
     "output_type": "execute_result"
    }
   ],
   "source": [
    "p3[0::2, 0] # for rows"
   ]
  },
  {
   "cell_type": "code",
   "execution_count": 96,
   "id": "f3c91813-b097-424d-9fce-91fabc62869a",
   "metadata": {},
   "outputs": [
    {
     "data": {
      "text/plain": [
       "array([[ 0,  2],\n",
       "       [18, 20]])"
      ]
     },
     "execution_count": 96,
     "metadata": {},
     "output_type": "execute_result"
    }
   ],
   "source": [
    "p3[0::2, 0 , ::2] # for columns"
   ]
  },
  {
   "cell_type": "code",
   "execution_count": 97,
   "id": "8f711e9a-6e29-4ae6-9d30-2e2a2a73c7df",
   "metadata": {},
   "outputs": [],
   "source": [
    "# Iterating"
   ]
  },
  {
   "cell_type": "code",
   "execution_count": 98,
   "id": "25d409e7-76be-4bab-b885-21efb9adb2bc",
   "metadata": {},
   "outputs": [
    {
     "name": "stdout",
     "output_type": "stream",
     "text": [
      "[0 1 2 3 4 5 6 7 8 9]\n",
      "[[ 0  1  2  3]\n",
      " [ 4  5  6  7]\n",
      " [ 8  9 10 11]]\n",
      "[[[ 0  1  2]\n",
      "  [ 3  4  5]\n",
      "  [ 6  7  8]]\n",
      "\n",
      " [[ 9 10 11]\n",
      "  [12 13 14]\n",
      "  [15 16 17]]\n",
      "\n",
      " [[18 19 20]\n",
      "  [21 22 23]\n",
      "  [24 25 26]]]\n"
     ]
    }
   ],
   "source": [
    "print(p1)\n",
    "print(p2)\n",
    "print(p3)"
   ]
  },
  {
   "cell_type": "code",
   "execution_count": 99,
   "id": "470aa29d-719f-4ab6-91ab-929f446e2763",
   "metadata": {},
   "outputs": [
    {
     "name": "stdout",
     "output_type": "stream",
     "text": [
      "0\n",
      "1\n",
      "2\n",
      "3\n",
      "4\n",
      "5\n",
      "6\n",
      "7\n",
      "8\n",
      "9\n"
     ]
    }
   ],
   "source": [
    "# Iterating for 1D array\n",
    "for i in p1:\n",
    "    print(i)"
   ]
  },
  {
   "cell_type": "code",
   "execution_count": 100,
   "id": "9234442d-3753-4843-99c6-507b97c58dec",
   "metadata": {},
   "outputs": [
    {
     "name": "stdout",
     "output_type": "stream",
     "text": [
      "[0 1 2 3]\n",
      "[4 5 6 7]\n",
      "[ 8  9 10 11]\n"
     ]
    }
   ],
   "source": [
    "# iterating for 2D array\n",
    "for i in p2:\n",
    "    print(i)    "
   ]
  },
  {
   "cell_type": "code",
   "execution_count": 101,
   "id": "657b08bc-782e-4dea-b072-c284dbc80f26",
   "metadata": {},
   "outputs": [
    {
     "name": "stdout",
     "output_type": "stream",
     "text": [
      "[[0 1 2]\n",
      " [3 4 5]\n",
      " [6 7 8]]\n",
      "[[ 9 10 11]\n",
      " [12 13 14]\n",
      " [15 16 17]]\n",
      "[[18 19 20]\n",
      " [21 22 23]\n",
      " [24 25 26]]\n"
     ]
    }
   ],
   "source": [
    "# itererating for 3D array\n",
    "for i in p3:\n",
    "    print(i)"
   ]
  },
  {
   "cell_type": "code",
   "execution_count": 102,
   "id": "ae828903-6534-4c59-8cf1-a2df265a9ccd",
   "metadata": {},
   "outputs": [
    {
     "name": "stdout",
     "output_type": "stream",
     "text": [
      "0\n",
      "1\n",
      "2\n",
      "3\n",
      "4\n",
      "5\n",
      "6\n",
      "7\n",
      "8\n",
      "9\n",
      "10\n",
      "11\n",
      "12\n",
      "13\n",
      "14\n",
      "15\n",
      "16\n",
      "17\n",
      "18\n",
      "19\n",
      "20\n",
      "21\n",
      "22\n",
      "23\n",
      "24\n",
      "25\n",
      "26\n"
     ]
    }
   ],
   "source": [
    "# nditer()---print all items in 3D using nditer- first convert in to 1D and applying loop\n",
    "for i in np.nditer(p3):\n",
    "    print(i)"
   ]
  },
  {
   "cell_type": "code",
   "execution_count": 103,
   "id": "760100a8-1e76-4352-988d-9d0d3bae66a8",
   "metadata": {},
   "outputs": [],
   "source": [
    "# Reshaping\n",
    "# converting rows in to clumns and culmns into rows"
   ]
  },
  {
   "cell_type": "code",
   "execution_count": 104,
   "id": "4abd551d-5c70-448d-b857-5ccac57e63c2",
   "metadata": {},
   "outputs": [
    {
     "name": "stdout",
     "output_type": "stream",
     "text": [
      "[[ 0  1  2  3]\n",
      " [ 4  5  6  7]\n",
      " [ 8  9 10 11]]\n",
      "[[ 0  4  8]\n",
      " [ 1  5  9]\n",
      " [ 2  6 10]\n",
      " [ 3  7 11]]\n"
     ]
    }
   ],
   "source": [
    "#1. transpose\n",
    "print(p2)\n",
    "print(np.transpose(p2))"
   ]
  },
  {
   "cell_type": "code",
   "execution_count": 105,
   "id": "ac279f55-2614-49e9-aaaf-8e656d7d1bb7",
   "metadata": {},
   "outputs": [
    {
     "data": {
      "text/plain": [
       "array([[ 0,  4,  8],\n",
       "       [ 1,  5,  9],\n",
       "       [ 2,  6, 10],\n",
       "       [ 3,  7, 11]])"
      ]
     },
     "execution_count": 105,
     "metadata": {},
     "output_type": "execute_result"
    }
   ],
   "source": [
    "# another method for transpose is\n",
    "p2.T"
   ]
  },
  {
   "cell_type": "code",
   "execution_count": 106,
   "id": "5bd0090c-dbd1-4b34-a8af-658c2586233f",
   "metadata": {},
   "outputs": [
    {
     "data": {
      "text/plain": [
       "array([ 0,  1,  2,  3,  4,  5,  6,  7,  8,  9, 10, 11])"
      ]
     },
     "execution_count": 106,
     "metadata": {},
     "output_type": "execute_result"
    }
   ],
   "source": [
    "# ravel\n",
    "# converting any dimentions to 1D\n",
    "p2.ravel()"
   ]
  },
  {
   "cell_type": "code",
   "execution_count": 107,
   "id": "fbd39333-3956-4ec9-9fd4-f6f648452f49",
   "metadata": {},
   "outputs": [],
   "source": [
    "# stacking\n",
    "#stacking is the concept of joining array in numpy.\n",
    "# arrays having the same dimenssions can be stacked"
   ]
  },
  {
   "cell_type": "code",
   "execution_count": 108,
   "id": "90c7466e-37b8-4180-ac2a-0e6c6edb7254",
   "metadata": {},
   "outputs": [
    {
     "name": "stdout",
     "output_type": "stream",
     "text": [
      "[[ 0  1  2  3]\n",
      " [ 4  5  6  7]\n",
      " [ 8  9 10 11]]\n",
      "[[12 13 14 15]\n",
      " [16 17 18 19]\n",
      " [20 21 22 23]]\n"
     ]
    }
   ],
   "source": [
    "h1 = np.arange(12).reshape(3,4)\n",
    "h2 = np.arange(12,24).reshape(3,4)\n",
    "print(h1)\n",
    "print(h2)"
   ]
  },
  {
   "cell_type": "code",
   "execution_count": 109,
   "id": "63ac4c3a-2430-4d4e-9ad3-bddc05296f00",
   "metadata": {},
   "outputs": [
    {
     "name": "stdout",
     "output_type": "stream",
     "text": [
      "[[ 0  1  2  3 12 13 14 15]\n",
      " [ 4  5  6  7 16 17 18 19]\n",
      " [ 8  9 10 11 20 21 22 23]]\n"
     ]
    }
   ],
   "source": [
    "# hstack() --- Horizontal stacking\n",
    "print(np.hstack((h1,h2)))"
   ]
  },
  {
   "cell_type": "code",
   "execution_count": 110,
   "id": "d4300310-d855-4ddd-9394-29f4dcd8c942",
   "metadata": {},
   "outputs": [
    {
     "name": "stdout",
     "output_type": "stream",
     "text": [
      "[[ 0  1  2  3]\n",
      " [ 4  5  6  7]\n",
      " [ 8  9 10 11]\n",
      " [12 13 14 15]\n",
      " [16 17 18 19]\n",
      " [20 21 22 23]]\n"
     ]
    }
   ],
   "source": [
    "# vstack() -- Vertivcal stacking\n",
    "print(np.vstack((h1,h2)))"
   ]
  },
  {
   "cell_type": "code",
   "execution_count": 111,
   "id": "42aae476-62cb-471e-8a5f-6124d1a78aae",
   "metadata": {},
   "outputs": [
    {
     "data": {
      "text/plain": [
       "array([[ 0,  1,  2,  3],\n",
       "       [ 4,  5,  6,  7],\n",
       "       [ 8,  9, 10, 11]])"
      ]
     },
     "execution_count": 111,
     "metadata": {},
     "output_type": "execute_result"
    }
   ],
   "source": [
    "# splitting\n",
    "# it is oppoite of stacking\n",
    "h1"
   ]
  },
  {
   "cell_type": "code",
   "execution_count": 112,
   "id": "cf4fb531-170b-4964-9bc5-9acf97b4f189",
   "metadata": {},
   "outputs": [
    {
     "data": {
      "text/plain": [
       "[array([[0, 1],\n",
       "        [4, 5],\n",
       "        [8, 9]]),\n",
       " array([[ 2,  3],\n",
       "        [ 6,  7],\n",
       "        [10, 11]])]"
      ]
     },
     "execution_count": 112,
     "metadata": {},
     "output_type": "execute_result"
    }
   ],
   "source": [
    "# Horizantal splitting\n",
    "np.hsplit(h1,2)"
   ]
  },
  {
   "cell_type": "code",
   "execution_count": 113,
   "id": "530405ac-ef4e-4d7c-a222-765749b81604",
   "metadata": {},
   "outputs": [
    {
     "data": {
      "text/plain": [
       "[array([[0],\n",
       "        [4],\n",
       "        [8]]),\n",
       " array([[1],\n",
       "        [5],\n",
       "        [9]]),\n",
       " array([[ 2],\n",
       "        [ 6],\n",
       "        [10]]),\n",
       " array([[ 3],\n",
       "        [ 7],\n",
       "        [11]])]"
      ]
     },
     "execution_count": 113,
     "metadata": {},
     "output_type": "execute_result"
    }
   ],
   "source": [
    "np.hsplit(h1, 4)"
   ]
  },
  {
   "cell_type": "code",
   "execution_count": 114,
   "id": "68f62231-b4fe-4eee-853a-27bf0ddb6e4c",
   "metadata": {},
   "outputs": [
    {
     "data": {
      "text/plain": [
       "[array([[0, 1, 2, 3]]), array([[4, 5, 6, 7]]), array([[ 8,  9, 10, 11]])]"
      ]
     },
     "execution_count": 114,
     "metadata": {},
     "output_type": "execute_result"
    }
   ],
   "source": [
    "# vertical split\n",
    "np.vsplit(h1, 3)"
   ]
  },
  {
   "cell_type": "code",
   "execution_count": 115,
   "id": "3d7daaec-0b55-424a-9825-d095e60d80b5",
   "metadata": {},
   "outputs": [],
   "source": [
    "# Numpy Arrays vs Python Sequences"
   ]
  },
  {
   "cell_type": "code",
   "execution_count": 116,
   "id": "c1a7d976-6342-4b85-86bc-3cfefee09348",
   "metadata": {},
   "outputs": [
    {
     "name": "stdout",
     "output_type": "stream",
     "text": [
      "4.6425621509552\n"
     ]
    }
   ],
   "source": [
    "# Element-wise addition \n",
    "# List\n",
    "a = [ i for i in range(10000000)] \n",
    "b = [i for i in range(10000000,20000000)] \n",
    " \n",
    "c = [] \n",
    " \n",
    "import time \n",
    " \n",
    "start = time.time() \n",
    "for i in range(len(a)):\n",
    "    c.append(a[i] + b[i]) \n",
    " \n",
    "print(time.time()-start) "
   ]
  },
  {
   "cell_type": "code",
   "execution_count": 117,
   "id": "aa97889b-ffa5-414e-8001-6862f8be3ee0",
   "metadata": {},
   "outputs": [
    {
     "name": "stdout",
     "output_type": "stream",
     "text": [
      "0.28991198539733887\n"
     ]
    }
   ],
   "source": [
    "# Numpy\n",
    "import numpy as np \n",
    " \n",
    "a = np.arange(10000000) \n",
    "b = np.arange(10000000,20000000) \n",
    " \n",
    "start =time.time() \n",
    "c = a+b \n",
    "print(time.time()-start) "
   ]
  },
  {
   "cell_type": "code",
   "execution_count": 118,
   "id": "a718fa9b-a3b8-43de-9dca-9cc41973c25d",
   "metadata": {},
   "outputs": [],
   "source": [
    "# Memory Used for List Vs Numpy"
   ]
  },
  {
   "cell_type": "code",
   "execution_count": 119,
   "id": "e37ed5b9-8dbe-4f16-aa1a-93dba4ffe4ec",
   "metadata": {},
   "outputs": [
    {
     "data": {
      "text/plain": [
       "89095160"
      ]
     },
     "execution_count": 119,
     "metadata": {},
     "output_type": "execute_result"
    }
   ],
   "source": [
    "# List\n",
    "P = [i for i in range(10000000)] \n",
    " \n",
    "import sys \n",
    " \n",
    "sys.getsizeof(P)"
   ]
  },
  {
   "cell_type": "code",
   "execution_count": 120,
   "id": "e163a384-07a8-45c2-87b0-2e741b6b48d0",
   "metadata": {},
   "outputs": [
    {
     "data": {
      "text/plain": [
       "40000112"
      ]
     },
     "execution_count": 120,
     "metadata": {},
     "output_type": "execute_result"
    }
   ],
   "source": [
    "# Numpy\n",
    "R = np.arange(10000000) \n",
    " \n",
    "sys.getsizeof(R)"
   ]
  },
  {
   "cell_type": "code",
   "execution_count": 121,
   "id": "9d82dda1-2a36-49ad-b5ba-6ebae19c284b",
   "metadata": {},
   "outputs": [
    {
     "data": {
      "text/plain": [
       "20000112"
      ]
     },
     "execution_count": 121,
     "metadata": {},
     "output_type": "execute_result"
    }
   ],
   "source": [
    "# we can decrease more in numpy \n",
    "R = np.arange(10000000, dtype =np.int16) \n",
    "sys.getsizeof(R) "
   ]
  },
  {
   "cell_type": "code",
   "execution_count": 122,
   "id": "c33ed30e-78be-422d-9b81-37a83bfff5f3",
   "metadata": {},
   "outputs": [],
   "source": [
    "# Advance Indexing and Slicing "
   ]
  },
  {
   "cell_type": "code",
   "execution_count": 123,
   "id": "c7a5e8c2-0829-44c8-8656-f7d0961ebb19",
   "metadata": {},
   "outputs": [
    {
     "data": {
      "text/plain": [
       "array([[ 0,  1,  2],\n",
       "       [ 3,  4,  5],\n",
       "       [ 6,  7,  8],\n",
       "       [ 9, 10, 11]])"
      ]
     },
     "execution_count": 123,
     "metadata": {},
     "output_type": "execute_result"
    }
   ],
   "source": [
    "# Normal Indexing and slicing\n",
    "w = np.arange(12).reshape(4,3)\n",
    "w"
   ]
  },
  {
   "cell_type": "code",
   "execution_count": 124,
   "id": "98d7a00d-c9ba-4185-97cf-c0bee9d18b98",
   "metadata": {},
   "outputs": [
    {
     "data": {
      "text/plain": [
       "5"
      ]
     },
     "execution_count": 124,
     "metadata": {},
     "output_type": "execute_result"
    }
   ],
   "source": [
    "w[1,2]"
   ]
  },
  {
   "cell_type": "code",
   "execution_count": 125,
   "id": "03c9e635-0893-433c-9a75-ab02df576dc4",
   "metadata": {},
   "outputs": [
    {
     "data": {
      "text/plain": [
       "array([[3, 4, 5],\n",
       "       [6, 7, 8]])"
      ]
     },
     "execution_count": 125,
     "metadata": {},
     "output_type": "execute_result"
    }
   ],
   "source": [
    "w[1:3]"
   ]
  },
  {
   "cell_type": "code",
   "execution_count": 126,
   "id": "0c768def-e087-448b-99a3-3885dd582da6",
   "metadata": {},
   "outputs": [
    {
     "data": {
      "text/plain": [
       "array([[4, 5],\n",
       "       [7, 8]])"
      ]
     },
     "execution_count": 126,
     "metadata": {},
     "output_type": "execute_result"
    }
   ],
   "source": [
    "w[1:3, 1:3]"
   ]
  },
  {
   "cell_type": "code",
   "execution_count": 127,
   "id": "2b1ba850-0b16-4e6b-8613-c28d3d8b8e90",
   "metadata": {},
   "outputs": [
    {
     "data": {
      "text/plain": [
       "array([[ 0,  1,  2],\n",
       "       [ 6,  7,  8],\n",
       "       [ 9, 10, 11]])"
      ]
     },
     "execution_count": 127,
     "metadata": {},
     "output_type": "execute_result"
    }
   ],
   "source": [
    "# Fancy Indexing\n",
    "w[[0,2,3]]"
   ]
  },
  {
   "cell_type": "code",
   "execution_count": 128,
   "id": "f91c1295-6d5f-4e0e-add5-bbdd534ddca1",
   "metadata": {},
   "outputs": [
    {
     "data": {
      "text/plain": [
       "array([[ 0,  1,  2,  3],\n",
       "       [ 4,  5,  6,  7],\n",
       "       [ 8,  9, 10, 11],\n",
       "       [12, 13, 14, 15],\n",
       "       [16, 17, 18, 19],\n",
       "       [20, 21, 22, 23]])"
      ]
     },
     "execution_count": 128,
     "metadata": {},
     "output_type": "execute_result"
    }
   ],
   "source": [
    "z = np.arange(24).reshape(6,4) \n",
    "z "
   ]
  },
  {
   "cell_type": "code",
   "execution_count": 129,
   "id": "c3217d95-31ce-4f5d-920f-e4a9805e8ec1",
   "metadata": {},
   "outputs": [
    {
     "data": {
      "text/plain": [
       "array([[ 0,  1,  2,  3],\n",
       "       [ 8,  9, 10, 11],\n",
       "       [12, 13, 14, 15],\n",
       "       [20, 21, 22, 23]])"
      ]
     },
     "execution_count": 129,
     "metadata": {},
     "output_type": "execute_result"
    }
   ],
   "source": [
    "z[[0,2,3,5]] # Fetch 1, 3, ,4, 6 rows "
   ]
  },
  {
   "cell_type": "code",
   "execution_count": 130,
   "id": "db304867-bb10-4bca-901a-dea8a101aaf3",
   "metadata": {},
   "outputs": [
    {
     "data": {
      "text/plain": [
       "array([[ 0,  2,  3],\n",
       "       [ 4,  6,  7],\n",
       "       [ 8, 10, 11],\n",
       "       [12, 14, 15],\n",
       "       [16, 18, 19],\n",
       "       [20, 22, 23]])"
      ]
     },
     "execution_count": 130,
     "metadata": {},
     "output_type": "execute_result"
    }
   ],
   "source": [
    "z[: , [0,2,3]] # Fetch 1,3,4 colums"
   ]
  },
  {
   "cell_type": "code",
   "execution_count": 131,
   "id": "bb4d5380-4426-4b24-b785-5799e762ff64",
   "metadata": {},
   "outputs": [
    {
     "data": {
      "text/plain": [
       "array([[84, 13, 39, 11],\n",
       "       [12, 10, 51, 32],\n",
       "       [31, 50, 58,  2],\n",
       "       [57, 83, 50, 72],\n",
       "       [77,  5,  3, 36],\n",
       "       [74, 76, 81, 52]])"
      ]
     },
     "execution_count": 131,
     "metadata": {},
     "output_type": "execute_result"
    }
   ],
   "source": [
    "# Boolean Indexing\n",
    "G = np.random.randint(1,100,24).reshape(6,4) \n",
    "G"
   ]
  },
  {
   "cell_type": "code",
   "execution_count": 132,
   "id": "12408e9d-efcf-42dd-a722-9894eb88dc44",
   "metadata": {},
   "outputs": [
    {
     "data": {
      "text/plain": [
       "array([[ True, False, False, False],\n",
       "       [False, False,  True, False],\n",
       "       [False, False,  True, False],\n",
       "       [ True,  True, False,  True],\n",
       "       [ True, False, False, False],\n",
       "       [ True,  True,  True,  True]])"
      ]
     },
     "execution_count": 132,
     "metadata": {},
     "output_type": "execute_result"
    }
   ],
   "source": [
    "# find all numbers greater than 50 \n",
    "G > 50"
   ]
  },
  {
   "cell_type": "code",
   "execution_count": 133,
   "id": "8a516247-d6fb-4968-a91e-cd47709df51f",
   "metadata": {},
   "outputs": [
    {
     "data": {
      "text/plain": [
       "array([[ True, False, False, False],\n",
       "       [ True,  True, False,  True],\n",
       "       [False,  True,  True,  True],\n",
       "       [False, False,  True,  True],\n",
       "       [False, False, False,  True],\n",
       "       [ True,  True, False,  True]])"
      ]
     },
     "execution_count": 133,
     "metadata": {},
     "output_type": "execute_result"
    }
   ],
   "source": [
    "# find out even numbers  \n",
    "G % 2 == 0 "
   ]
  },
  {
   "cell_type": "code",
   "execution_count": 134,
   "id": "e01c1042-594f-4d87-9178-4edd1a3a38d5",
   "metadata": {},
   "outputs": [
    {
     "data": {
      "text/plain": [
       "array([84, 12, 10, 32, 50, 58,  2, 50, 72, 36, 74, 76, 52])"
      ]
     },
     "execution_count": 134,
     "metadata": {},
     "output_type": "execute_result"
    }
   ],
   "source": [
    "# Gives only the even numbers  \n",
    "G [ G % 2 == 0]"
   ]
  },
  {
   "cell_type": "code",
   "execution_count": 135,
   "id": "429b3738-c299-4e8f-b9ee-f4a3fc4fa45f",
   "metadata": {},
   "outputs": [
    {
     "data": {
      "text/plain": [
       "array([[ True, False, False, False],\n",
       "       [False, False, False, False],\n",
       "       [False, False,  True, False],\n",
       "       [False, False, False,  True],\n",
       "       [False, False, False, False],\n",
       "       [ True,  True, False,  True]])"
      ]
     },
     "execution_count": 135,
     "metadata": {},
     "output_type": "execute_result"
    }
   ],
   "source": [
    "# find all numbers greater than 50 and are even  \n",
    "(G > 50 ) & (G % 2 == 0) "
   ]
  },
  {
   "cell_type": "code",
   "execution_count": 136,
   "id": "da35ca48-5763-4d32-9cf3-a3ded963ea72",
   "metadata": {},
   "outputs": [
    {
     "data": {
      "text/plain": [
       "array([84, 58, 72, 74, 76, 52])"
      ]
     },
     "execution_count": 136,
     "metadata": {},
     "output_type": "execute_result"
    }
   ],
   "source": [
    "# Result  \n",
    "G [(G > 50 ) & (G % 2 == 0)] "
   ]
  },
  {
   "cell_type": "code",
   "execution_count": 137,
   "id": "bf2ccf4e-2bb2-4456-89b4-153df25722ed",
   "metadata": {},
   "outputs": [
    {
     "data": {
      "text/plain": [
       "array([[ True, False, False, False],\n",
       "       [False, False, False, False],\n",
       "       [False, False, False, False],\n",
       "       [False, False, False, False],\n",
       "       [ True, False, False, False],\n",
       "       [False, False, False, False]])"
      ]
     },
     "execution_count": 137,
     "metadata": {},
     "output_type": "execute_result"
    }
   ],
   "source": [
    "# find all numbers not divisible by 7 \n",
    "G % 7 == 0"
   ]
  },
  {
   "cell_type": "code",
   "execution_count": 138,
   "id": "bcf2deb7-98e5-4e8f-bf09-dd92226f27f8",
   "metadata": {},
   "outputs": [
    {
     "data": {
      "text/plain": [
       "array([13, 39, 11, 12, 10, 51, 32, 31, 50, 58,  2, 57, 83, 50, 72,  5,  3,\n",
       "       36, 74, 76, 81, 52])"
      ]
     },
     "execution_count": 138,
     "metadata": {},
     "output_type": "execute_result"
    }
   ],
   "source": [
    "# Result \n",
    "G[~(G % 7 == 0)] # (~) = Not"
   ]
  },
  {
   "cell_type": "code",
   "execution_count": 139,
   "id": "2a72405e-3abd-4aa8-b9a0-fd5000c31d30",
   "metadata": {},
   "outputs": [],
   "source": [
    "# Broadcasting"
   ]
  },
  {
   "cell_type": "code",
   "execution_count": 140,
   "id": "51bc09bb-bb1d-4d58-847f-e168afffa572",
   "metadata": {},
   "outputs": [
    {
     "name": "stdout",
     "output_type": "stream",
     "text": [
      "[[0 1 2]\n",
      " [3 4 5]]\n",
      "[[ 6  7  8]\n",
      " [ 9 10 11]]\n",
      "[[ 6  8 10]\n",
      " [12 14 16]]\n"
     ]
    }
   ],
   "source": [
    "# same shape\n",
    "a=np.arange(6).reshape(2,3)\n",
    "b=np.arange(6,12).reshape(2,3)\n",
    "print(a)\n",
    "print(b)\n",
    "print(a+b)"
   ]
  },
  {
   "cell_type": "code",
   "execution_count": 141,
   "id": "944eddcd-51a9-4fe9-984c-22ffc1856f68",
   "metadata": {},
   "outputs": [
    {
     "name": "stdout",
     "output_type": "stream",
     "text": [
      "[[0 1 2]\n",
      " [3 4 5]]\n",
      "[[0 1 2]]\n",
      "[[0 2 4]\n",
      " [3 5 7]]\n"
     ]
    }
   ],
   "source": [
    "# diff shape\n",
    "a= np.arange(6).reshape(2,3)\n",
    "b= np.arange(3).reshape(1,3)\n",
    "print(a)\n",
    "print(b)\n",
    "print(a+b)"
   ]
  },
  {
   "cell_type": "code",
   "execution_count": 142,
   "id": "9b909318-f2ae-45e6-a0e1-67943243b4d5",
   "metadata": {},
   "outputs": [
    {
     "name": "stdout",
     "output_type": "stream",
     "text": [
      "[[ 0  1  2]\n",
      " [ 3  4  5]\n",
      " [ 6  7  8]\n",
      " [ 9 10 11]]\n",
      "[0 1 2]\n",
      "[[ 0  2  4]\n",
      " [ 3  5  7]\n",
      " [ 6  8 10]\n",
      " [ 9 11 13]]\n"
     ]
    }
   ],
   "source": [
    "# Broadcasting\n",
    "a = np.arange(12).reshape(4,3) \n",
    "b = np.arange(3)  \n",
    "print(a) # 2 D \n",
    "print(b) # 1 D \n",
    "print(a+b) # Arthematic Operation"
   ]
  },
  {
   "cell_type": "code",
   "execution_count": 143,
   "id": "d85e8673-c9e8-4342-9bb3-14a60ed19856",
   "metadata": {},
   "outputs": [
    {
     "name": "stdout",
     "output_type": "stream",
     "text": [
      "[[ 0  1  2  3]\n",
      " [ 4  5  6  7]\n",
      " [ 8  9 10 11]]\n",
      "[0 1 2]\n"
     ]
    },
    {
     "ename": "ValueError",
     "evalue": "operands could not be broadcast together with shapes (3,4) (3,) ",
     "output_type": "error",
     "traceback": [
      "\u001b[1;31m---------------------------------------------------------------------------\u001b[0m",
      "\u001b[1;31mValueError\u001b[0m                                Traceback (most recent call last)",
      "Cell \u001b[1;32mIn[143], line 9\u001b[0m\n\u001b[0;32m      6\u001b[0m \u001b[38;5;28mprint\u001b[39m(a) \n\u001b[0;32m      7\u001b[0m \u001b[38;5;28mprint\u001b[39m(b) \n\u001b[1;32m----> 9\u001b[0m \u001b[38;5;28mprint\u001b[39m(a\u001b[38;5;241m+\u001b[39mb)\n",
      "\u001b[1;31mValueError\u001b[0m: operands could not be broadcast together with shapes (3,4) (3,) "
     ]
    }
   ],
   "source": [
    "# Could not Broadcast \n",
    " \n",
    "a = np.arange(12).reshape(3,4) \n",
    "b = np.arange(3) \n",
    " \n",
    "print(a) \n",
    "print(b) \n",
    " \n",
    "print(a+b)"
   ]
  },
  {
   "cell_type": "code",
   "execution_count": 188,
   "id": "d8be6382-83fa-4958-9e33-3b86696a5034",
   "metadata": {},
   "outputs": [
    {
     "name": "stdout",
     "output_type": "stream",
     "text": [
      "[[0 1 2]]\n",
      "[[0]\n",
      " [1]\n",
      " [2]]\n",
      "[[0 1 2]\n",
      " [1 2 3]\n",
      " [2 3 4]]\n"
     ]
    }
   ],
   "source": [
    "a = np.arange(3).reshape(1,3) \n",
    "b = np.arange(3).reshape(3,1) \n",
    " \n",
    "print(a) \n",
    "print(b) \n",
    " \n",
    "print(a+b)"
   ]
  },
  {
   "cell_type": "code",
   "execution_count": 189,
   "id": "ab205518-5f2f-417e-aa4b-1b74a7f0f07b",
   "metadata": {},
   "outputs": [
    {
     "name": "stdout",
     "output_type": "stream",
     "text": [
      "[[0 1 2]]\n",
      "[[0]\n",
      " [1]\n",
      " [2]\n",
      " [3]]\n",
      "[[0 1 2]\n",
      " [1 2 3]\n",
      " [2 3 4]\n",
      " [3 4 5]]\n"
     ]
    }
   ],
   "source": [
    "a = np.arange(3).reshape(1,3) \n",
    "b = np.arange(4).reshape(4,1) \n",
    " \n",
    "print(a) \n",
    "print(b) \n",
    " \n",
    "print(a + b) "
   ]
  },
  {
   "cell_type": "code",
   "execution_count": 190,
   "id": "e60c2d42-52c0-4353-b2a3-a49a425bab4b",
   "metadata": {},
   "outputs": [
    {
     "name": "stdout",
     "output_type": "stream",
     "text": [
      "[1]\n",
      "[[0 1]\n",
      " [2 3]]\n",
      "[[1 2]\n",
      " [3 4]]\n"
     ]
    }
   ],
   "source": [
    "a = np.array([1]) \n",
    "# shape -> (1,1) streched to 2,2 \n",
    "b = np.arange(4).reshape(2,2) \n",
    "# shape -> (2,2) \n",
    " \n",
    "print(a) \n",
    "print(b) \n",
    " \n",
    "print(a+b)"
   ]
  },
  {
   "cell_type": "code",
   "execution_count": 191,
   "id": "c19dd7e3-24f4-47a1-b8de-4f2d1515e85f",
   "metadata": {},
   "outputs": [
    {
     "name": "stdout",
     "output_type": "stream",
     "text": [
      "[[ 0  1  2  3]\n",
      " [ 4  5  6  7]\n",
      " [ 8  9 10 11]]\n",
      "[[ 0  1  2]\n",
      " [ 3  4  5]\n",
      " [ 6  7  8]\n",
      " [ 9 10 11]]\n"
     ]
    },
    {
     "ename": "ValueError",
     "evalue": "operands could not be broadcast together with shapes (3,4) (4,3) ",
     "output_type": "error",
     "traceback": [
      "\u001b[1;31m---------------------------------------------------------------------------\u001b[0m",
      "\u001b[1;31mValueError\u001b[0m                                Traceback (most recent call last)",
      "Cell \u001b[1;32mIn[191], line 8\u001b[0m\n\u001b[0;32m      5\u001b[0m \u001b[38;5;28mprint\u001b[39m(a) \n\u001b[0;32m      6\u001b[0m \u001b[38;5;28mprint\u001b[39m(b) \n\u001b[1;32m----> 8\u001b[0m \u001b[38;5;28mprint\u001b[39m(a\u001b[38;5;241m+\u001b[39mb)\n",
      "\u001b[1;31mValueError\u001b[0m: operands could not be broadcast together with shapes (3,4) (4,3) "
     ]
    }
   ],
   "source": [
    "# doesnt work \n",
    "a = np.arange(12).reshape(3,4) \n",
    "b = np.arange(12).reshape(4,3) \n",
    " \n",
    "print(a) \n",
    "print(b) \n",
    " \n",
    "print(a+b) "
   ]
  },
  {
   "cell_type": "code",
   "execution_count": 192,
   "id": "9c66439f-70ef-49e5-9faf-a0ee931c1da1",
   "metadata": {},
   "outputs": [
    {
     "name": "stdout",
     "output_type": "stream",
     "text": [
      "[[ 0  1  2  3]\n",
      " [ 4  5  6  7]\n",
      " [ 8  9 10 11]\n",
      " [12 13 14 15]]\n",
      "[[0 1]\n",
      " [2 3]]\n"
     ]
    },
    {
     "ename": "ValueError",
     "evalue": "operands could not be broadcast together with shapes (4,4) (2,2) ",
     "output_type": "error",
     "traceback": [
      "\u001b[1;31m---------------------------------------------------------------------------\u001b[0m",
      "\u001b[1;31mValueError\u001b[0m                                Traceback (most recent call last)",
      "Cell \u001b[1;32mIn[192], line 8\u001b[0m\n\u001b[0;32m      5\u001b[0m \u001b[38;5;28mprint\u001b[39m(a) \n\u001b[0;32m      6\u001b[0m \u001b[38;5;28mprint\u001b[39m(b) \n\u001b[1;32m----> 8\u001b[0m \u001b[38;5;28mprint\u001b[39m(a\u001b[38;5;241m+\u001b[39mb)\n",
      "\u001b[1;31mValueError\u001b[0m: operands could not be broadcast together with shapes (4,4) (2,2) "
     ]
    }
   ],
   "source": [
    "# Not Work \n",
    "a = np.arange(16).reshape(4,4) \n",
    "b = np.arange(4).reshape(2,2) \n",
    " \n",
    "print(a) \n",
    "print(b) \n",
    " \n",
    "print(a+b)"
   ]
  },
  {
   "cell_type": "code",
   "execution_count": null,
   "id": "c6371c8e-6368-4c38-b4ae-ec6ec9cf0498",
   "metadata": {},
   "outputs": [],
   "source": [
    "# Working with mathematical formulas"
   ]
  },
  {
   "cell_type": "code",
   "execution_count": 193,
   "id": "dd0cb146-0934-45eb-b210-f621ea6d306c",
   "metadata": {},
   "outputs": [
    {
     "data": {
      "text/plain": [
       "array([0, 1, 2, 3, 4, 5, 6, 7, 8, 9])"
      ]
     },
     "execution_count": 193,
     "metadata": {},
     "output_type": "execute_result"
    }
   ],
   "source": [
    "k = np.arange(10) \n",
    "k"
   ]
  },
  {
   "cell_type": "code",
   "execution_count": 194,
   "id": "4bb7563b-2c11-4647-839f-d8ad0c593a3f",
   "metadata": {},
   "outputs": [
    {
     "name": "stdout",
     "output_type": "stream",
     "text": [
      "45\n",
      "[ 0.          0.84147098  0.90929743  0.14112001 -0.7568025  -0.95892427\n",
      " -0.2794155   0.6569866   0.98935825  0.41211849]\n"
     ]
    }
   ],
   "source": [
    "print(np.sum(k))\n",
    "print(np.sin(k))"
   ]
  },
  {
   "cell_type": "code",
   "execution_count": 195,
   "id": "ba1241d7-f818-4e47-b66b-edccddfbd828",
   "metadata": {},
   "outputs": [],
   "source": [
    "# Working with Missing Values"
   ]
  },
  {
   "cell_type": "code",
   "execution_count": 196,
   "id": "5964e00b-d2c1-4fc4-a220-e50e2f25312e",
   "metadata": {},
   "outputs": [
    {
     "data": {
      "text/plain": [
       "array([ 1.,  2.,  3.,  4., nan,  6.])"
      ]
     },
     "execution_count": 196,
     "metadata": {},
     "output_type": "execute_result"
    }
   ],
   "source": [
    "S = np.array([1,2,3,4,np.nan,6]) \n",
    "S"
   ]
  },
  {
   "cell_type": "code",
   "execution_count": 197,
   "id": "cc27bca8-9c7b-4a8f-b402-bd308bc4ca2d",
   "metadata": {},
   "outputs": [
    {
     "data": {
      "text/plain": [
       "array([False, False, False, False,  True, False])"
      ]
     },
     "execution_count": 197,
     "metadata": {},
     "output_type": "execute_result"
    }
   ],
   "source": [
    "np.isnan(S)"
   ]
  },
  {
   "cell_type": "code",
   "execution_count": 198,
   "id": "da48051e-0acf-4426-b757-f1ce2c9301bf",
   "metadata": {},
   "outputs": [
    {
     "data": {
      "text/plain": [
       "array([nan])"
      ]
     },
     "execution_count": 198,
     "metadata": {},
     "output_type": "execute_result"
    }
   ],
   "source": [
    "S[np.isnan(S)]  # Nan values"
   ]
  },
  {
   "cell_type": "code",
   "execution_count": 199,
   "id": "335ddb38-4ee3-427a-ba0a-bb78e3ffd4cf",
   "metadata": {},
   "outputs": [
    {
     "data": {
      "text/plain": [
       "array([1., 2., 3., 4., 6.])"
      ]
     },
     "execution_count": 199,
     "metadata": {},
     "output_type": "execute_result"
    }
   ],
   "source": [
    "S[~np.isnan(S)] # Not Nan Values "
   ]
  },
  {
   "cell_type": "code",
   "execution_count": 200,
   "id": "fb1832ce-c829-43a3-8c63-426a67de4258",
   "metadata": {},
   "outputs": [],
   "source": [
    "# Plotting Graphs "
   ]
  },
  {
   "cell_type": "code",
   "execution_count": 201,
   "id": "8a2f19e2-1f37-45c1-b2e0-f6e5beb34fcd",
   "metadata": {},
   "outputs": [
    {
     "data": {
      "text/plain": [
       "array([-10.        ,  -9.7979798 ,  -9.5959596 ,  -9.39393939,\n",
       "        -9.19191919,  -8.98989899,  -8.78787879,  -8.58585859,\n",
       "        -8.38383838,  -8.18181818,  -7.97979798,  -7.77777778,\n",
       "        -7.57575758,  -7.37373737,  -7.17171717,  -6.96969697,\n",
       "        -6.76767677,  -6.56565657,  -6.36363636,  -6.16161616,\n",
       "        -5.95959596,  -5.75757576,  -5.55555556,  -5.35353535,\n",
       "        -5.15151515,  -4.94949495,  -4.74747475,  -4.54545455,\n",
       "        -4.34343434,  -4.14141414,  -3.93939394,  -3.73737374,\n",
       "        -3.53535354,  -3.33333333,  -3.13131313,  -2.92929293,\n",
       "        -2.72727273,  -2.52525253,  -2.32323232,  -2.12121212,\n",
       "        -1.91919192,  -1.71717172,  -1.51515152,  -1.31313131,\n",
       "        -1.11111111,  -0.90909091,  -0.70707071,  -0.50505051,\n",
       "        -0.3030303 ,  -0.1010101 ,   0.1010101 ,   0.3030303 ,\n",
       "         0.50505051,   0.70707071,   0.90909091,   1.11111111,\n",
       "         1.31313131,   1.51515152,   1.71717172,   1.91919192,\n",
       "         2.12121212,   2.32323232,   2.52525253,   2.72727273,\n",
       "         2.92929293,   3.13131313,   3.33333333,   3.53535354,\n",
       "         3.73737374,   3.93939394,   4.14141414,   4.34343434,\n",
       "         4.54545455,   4.74747475,   4.94949495,   5.15151515,\n",
       "         5.35353535,   5.55555556,   5.75757576,   5.95959596,\n",
       "         6.16161616,   6.36363636,   6.56565657,   6.76767677,\n",
       "         6.96969697,   7.17171717,   7.37373737,   7.57575758,\n",
       "         7.77777778,   7.97979798,   8.18181818,   8.38383838,\n",
       "         8.58585859,   8.78787879,   8.98989899,   9.19191919,\n",
       "         9.39393939,   9.5959596 ,   9.7979798 ,  10.        ])"
      ]
     },
     "execution_count": 201,
     "metadata": {},
     "output_type": "execute_result"
    }
   ],
   "source": [
    "# plotting a 2D plot \n",
    "# x = y \n",
    "x=np.linspace(-10,10,100)\n",
    "x"
   ]
  },
  {
   "cell_type": "code",
   "execution_count": 202,
   "id": "7db2f6fe-0440-414b-be3e-4cde3d42539e",
   "metadata": {},
   "outputs": [
    {
     "data": {
      "text/plain": [
       "array([-10.        ,  -9.7979798 ,  -9.5959596 ,  -9.39393939,\n",
       "        -9.19191919,  -8.98989899,  -8.78787879,  -8.58585859,\n",
       "        -8.38383838,  -8.18181818,  -7.97979798,  -7.77777778,\n",
       "        -7.57575758,  -7.37373737,  -7.17171717,  -6.96969697,\n",
       "        -6.76767677,  -6.56565657,  -6.36363636,  -6.16161616,\n",
       "        -5.95959596,  -5.75757576,  -5.55555556,  -5.35353535,\n",
       "        -5.15151515,  -4.94949495,  -4.74747475,  -4.54545455,\n",
       "        -4.34343434,  -4.14141414,  -3.93939394,  -3.73737374,\n",
       "        -3.53535354,  -3.33333333,  -3.13131313,  -2.92929293,\n",
       "        -2.72727273,  -2.52525253,  -2.32323232,  -2.12121212,\n",
       "        -1.91919192,  -1.71717172,  -1.51515152,  -1.31313131,\n",
       "        -1.11111111,  -0.90909091,  -0.70707071,  -0.50505051,\n",
       "        -0.3030303 ,  -0.1010101 ,   0.1010101 ,   0.3030303 ,\n",
       "         0.50505051,   0.70707071,   0.90909091,   1.11111111,\n",
       "         1.31313131,   1.51515152,   1.71717172,   1.91919192,\n",
       "         2.12121212,   2.32323232,   2.52525253,   2.72727273,\n",
       "         2.92929293,   3.13131313,   3.33333333,   3.53535354,\n",
       "         3.73737374,   3.93939394,   4.14141414,   4.34343434,\n",
       "         4.54545455,   4.74747475,   4.94949495,   5.15151515,\n",
       "         5.35353535,   5.55555556,   5.75757576,   5.95959596,\n",
       "         6.16161616,   6.36363636,   6.56565657,   6.76767677,\n",
       "         6.96969697,   7.17171717,   7.37373737,   7.57575758,\n",
       "         7.77777778,   7.97979798,   8.18181818,   8.38383838,\n",
       "         8.58585859,   8.78787879,   8.98989899,   9.19191919,\n",
       "         9.39393939,   9.5959596 ,   9.7979798 ,  10.        ])"
      ]
     },
     "execution_count": 202,
     "metadata": {},
     "output_type": "execute_result"
    }
   ],
   "source": [
    "y=x\n",
    "y"
   ]
  },
  {
   "cell_type": "code",
   "execution_count": 203,
   "id": "73798f24-6e6a-42f3-a985-f80b1611138b",
   "metadata": {},
   "outputs": [],
   "source": [
    "import matplotlib.pyplot as plt"
   ]
  },
  {
   "cell_type": "code",
   "execution_count": 204,
   "id": "f4e5ed6c-bf3d-4620-8699-6c58681f0cf8",
   "metadata": {},
   "outputs": [
    {
     "data": {
      "text/plain": [
       "[<matplotlib.lines.Line2D at 0x221cb54e540>]"
      ]
     },
     "execution_count": 204,
     "metadata": {},
     "output_type": "execute_result"
    },
    {
     "data": {
      "image/png": "[encoded data removed]",
      "text/plain": [
       "<Figure size 640x480 with 1 Axes>"
      ]
     },
     "metadata": {},
     "output_type": "display_data"
    }
   ],
   "source": [
    "plt.plot(x, y)"
   ]
  },
  {
   "cell_type": "code",
   "execution_count": 205,
   "id": "b8fc30e3-99bd-4749-9d64-65acce491146",
   "metadata": {},
   "outputs": [
    {
     "data": {
      "text/plain": [
       "[<matplotlib.lines.Line2D at 0x2219b790e90>]"
      ]
     },
     "execution_count": 205,
     "metadata": {},
     "output_type": "execute_result"
    },
    {
     "data": {
      "image/png": "[encoded data removed]",
      "text/plain": [
       "<Figure size 640x480 with 1 Axes>"
      ]
     },
     "metadata": {},
     "output_type": "display_data"
    }
   ],
   "source": [
    "#y= x^2\n",
    "y=x**2\n",
    "plt.plot(x, y)"
   ]
  },
  {
   "cell_type": "code",
   "execution_count": 206,
   "id": "fb6a7031-d1fd-41fc-a447-74e79a393217",
   "metadata": {},
   "outputs": [
    {
     "data": {
      "text/plain": [
       "[<matplotlib.lines.Line2D at 0x2219b87ec30>]"
      ]
     },
     "execution_count": 206,
     "metadata": {},
     "output_type": "execute_result"
    },
    {
     "data": {
      "image/png": "[encoded data removed]",
      "text/plain": [
       "<Figure size 640x480 with 1 Axes>"
      ]
     },
     "metadata": {},
     "output_type": "display_data"
    }
   ],
   "source": [
    "# y = sin(x)\n",
    "x= np.linspace(-10,10,100)\n",
    "y= np.sin(x)\n",
    "plt.plot(x, y)"
   ]
  },
  {
   "cell_type": "code",
   "execution_count": 207,
   "id": "407b6a35-e991-44e5-956f-01664c41b54d",
   "metadata": {},
   "outputs": [
    {
     "name": "stderr",
     "output_type": "stream",
     "text": [
      "C:\\Users\\Lucky\\AppData\\Local\\Temp\\ipykernel_32872\\1634825059.py:3: RuntimeWarning: invalid value encountered in log\n",
      "  y= x*np.log(x)\n"
     ]
    },
    {
     "data": {
      "text/plain": [
       "[<matplotlib.lines.Line2D at 0x2219b6bf170>]"
      ]
     },
     "execution_count": 207,
     "metadata": {},
     "output_type": "execute_result"
    },
    {
     "data": {
      "image/png": "[encoded data removed]",
      "text/plain": [
       "<Figure size 640x480 with 1 Axes>"
      ]
     },
     "metadata": {},
     "output_type": "display_data"
    }
   ],
   "source": [
    "# y= x * log(x)\n",
    "x=np.linspace(-10,10,100)\n",
    "y= x*np.log(x)\n",
    "plt.plot(x, y)"
   ]
  },
  {
   "cell_type": "code",
   "execution_count": 208,
   "id": "2b67b9b6-e7c3-4ff2-9ec5-51c9606158c7",
   "metadata": {},
   "outputs": [
    {
     "data": {
      "text/plain": [
       "[<matplotlib.lines.Line2D at 0x2219b7370b0>]"
      ]
     },
     "execution_count": 208,
     "metadata": {},
     "output_type": "execute_result"
    },
    {
     "data": {
      "image/png": "[encoded data removed]",
      "text/plain": [
       "<Figure size 640x480 with 1 Axes>"
      ]
     },
     "metadata": {},
     "output_type": "display_data"
    }
   ],
   "source": [
    "# sigmoid\n",
    "x = np.linspace(-10,10,100) \n",
    "y = 1/(1+np.exp(-x)) \n",
    " \n",
    "plt.plot(x,y) "
   ]
  },
  {
   "cell_type": "code",
   "execution_count": 209,
   "id": "bfe680a3-57e5-4909-9261-b4a669b657ca",
   "metadata": {},
   "outputs": [],
   "source": [
    "# Meshgrid"
   ]
  },
  {
   "cell_type": "code",
   "execution_count": 210,
   "id": "59599273-fa2a-4a13-9ded-abe8818fa14b",
   "metadata": {},
   "outputs": [],
   "source": [
    "x = np.linspace(0,10,100) \n",
    "y = np.linspace(0,10,100)"
   ]
  },
  {
   "cell_type": "code",
   "execution_count": 211,
   "id": "dcc88238-50a6-4f0d-b554-3df49543889b",
   "metadata": {},
   "outputs": [
    {
     "data": {
      "image/png": "[encoded data removed]",
      "text/plain": [
       "<Figure size 400x200 with 1 Axes>"
      ]
     },
     "metadata": {},
     "output_type": "display_data"
    }
   ],
   "source": [
    "# Try to create 2D function\n",
    "f = x**2+y**2 \n",
    "\n",
    "plt.figure(figsize=(4,2)) \n",
    "plt.plot(f) \n",
    "plt.show() \n"
   ]
  },
  {
   "cell_type": "code",
   "execution_count": 3,
   "id": "d789e570-c44b-48de-a2d1-5d8c74ea18d7",
   "metadata": {},
   "outputs": [
    {
     "name": "stdout",
     "output_type": "stream",
     "text": [
      "[0 1 2]\n",
      "[0 1 2]\n"
     ]
    }
   ],
   "source": [
    "import numpy as np\n",
    "x = np.arange(3) \n",
    "y = np.arange(3)\n",
    "print(x)\n",
    "print(y)"
   ]
  },
  {
   "cell_type": "code",
   "execution_count": 12,
   "id": "b95b3407-b2c0-4cf0-8ee9-24ef8e774a79",
   "metadata": {},
   "outputs": [
    {
     "data": {
      "image/png": "[encoded data removed]",
      "text/plain": [
       "<Figure size 300x300 with 1 Axes>"
      ]
     },
     "metadata": {},
     "output_type": "display_data"
    }
   ],
   "source": [
    "# Generating a meshgrid:\n",
    "x1 , y1= np.meshgrid(x, y)\n",
    "plt.figure(figsize=(3,3))\n",
    "plt.scatter(x1, y1, color=\"red\")\n",
    "plt.xlabel(\"X-axis\")\n",
    "plt.ylabel(\"Y-axis\")\n",
    "plt.title(\"Meshgrid Example\")\n",
    "plt.grid(True)"
   ]
  },
  {
   "cell_type": "code",
   "execution_count": 214,
   "id": "a1874a2f-fd21-4c45-b06a-690b4ec93625",
   "metadata": {},
   "outputs": [
    {
     "data": {
      "text/plain": [
       "array([[0, 1, 2],\n",
       "       [0, 1, 2],\n",
       "       [0, 1, 2]])"
      ]
     },
     "execution_count": 214,
     "metadata": {},
     "output_type": "execute_result"
    }
   ],
   "source": [
    "x1"
   ]
  },
  {
   "cell_type": "code",
   "execution_count": 5,
   "id": "9b1f85fd-3bb8-4ff0-805d-0fa998cbc353",
   "metadata": {},
   "outputs": [
    {
     "name": "stdout",
     "output_type": "stream",
     "text": [
      "[-4. -3. -2. -1.  0.  1.  2.  3.  4.]\n",
      "[-5. -4. -3. -2. -1.  0.  1.  2.  3.  4.  5.]\n"
     ]
    }
   ],
   "source": [
    "# Example 2\n",
    "a = np.linspace(-4, 4, 9) \n",
    "b = np.linspace(-5, 5, 11) \n",
    "print(a) \n",
    "print(b) "
   ]
  },
  {
   "cell_type": "code",
   "execution_count": 11,
   "id": "89b30a7f-ccd6-470f-aa54-13bf1306a481",
   "metadata": {},
   "outputs": [
    {
     "data": {
      "image/png": "[encoded data removed]",
      "text/plain": [
       "<Figure size 400x400 with 1 Axes>"
      ]
     },
     "metadata": {},
     "output_type": "display_data"
    }
   ],
   "source": [
    "import matplotlib.pyplot as plt\n",
    "a1, b1=np.meshgrid(a,b)\n",
    "\n",
    "plt.figure(figsize=(4,4))\n",
    "plt.scatter(a1,b1, color=\"green\")\n",
    "plt.grid(True)"
   ]
  },
  {
   "cell_type": "code",
   "execution_count": 13,
   "id": "24f5150e-10eb-4c5e-8ac7-0e82f0fa6d74",
   "metadata": {},
   "outputs": [
    {
     "data": {
      "image/png": "[encoded data removed]",
      "text/plain": [
       "<Figure size 600x300 with 2 Axes>"
      ]
     },
     "metadata": {},
     "output_type": "display_data"
    }
   ],
   "source": [
    "# example 3\n",
    "x = np.linspace(-2,2,100) \n",
    "y = np.linspace(-1,1,100) \n",
    "xv, yv = np.meshgrid(x, y) \n",
    "f = np.exp(-xv**2-yv**2) \n",
    "plt.figure(figsize=(6, 3)) \n",
    "plt.pcolormesh(xv, yv, f, shading='auto') \n",
    "plt.colorbar() \n",
    "plt.grid() \n",
    "plt.show()"
   ]
  },
  {
   "cell_type": "code",
   "execution_count": 14,
   "id": "d2566ec4-b1d0-4117-96fa-35a6eb39f469",
   "metadata": {},
   "outputs": [
    {
     "data": {
      "image/png": "[encoded data removed]",
      "text/plain": [
       "<Figure size 640x480 with 2 Axes>"
      ]
     },
     "metadata": {},
     "output_type": "display_data"
    }
   ],
   "source": [
    "def f(x, y): \n",
    "    return np.where((x**2 + y**2 < 1), 1.0, 0.0) \n",
    " \n",
    "x = np.linspace(-5, 5, 500) \n",
    "y = np.linspace(-5, 5, 500) \n",
    "xv, yv = np.meshgrid(x, y) \n",
    "rectangular_mask = f(xv, yv) \n",
    " \n",
    "plt.pcolormesh(xv, yv, rectangular_mask, shading='auto') \n",
    "plt.colorbar() \n",
    "plt.grid() \n",
    "plt.show()"
   ]
  },
  {
   "cell_type": "code",
   "execution_count": 15,
   "id": "a1053029-87c1-42bb-b858-de1830a72000",
   "metadata": {},
   "outputs": [
    {
     "data": {
      "image/png": "[encoded data removed]",
      "text/plain": [
       "<Figure size 640x480 with 2 Axes>"
      ]
     },
     "metadata": {},
     "output_type": "display_data"
    }
   ],
   "source": [
    "# numpy.linspace creates an array of \n",
    "# 9 linearly placed elements between \n",
    "# -4 and 4, both inclusive \n",
    " \n",
    "x = np.linspace(-4, 4, 9)\n",
    "y = np.linspace(-5, 5, 11)\n",
    "x_1, y_1 = np.meshgrid(x, y)\n",
    "random_data = np.random.random((11, 9)) \n",
    "plt.contourf(x_1, y_1, random_data, cmap = 'jet') \n",
    " \n",
    "plt.colorbar() \n",
    "plt.show() \n"
   ]
  },
  {
   "cell_type": "code",
   "execution_count": 16,
   "id": "da621b6d-7b70-43ae-904f-9e8940bc15a0",
   "metadata": {},
   "outputs": [
    {
     "name": "stderr",
     "output_type": "stream",
     "text": [
      "C:\\Users\\Lucky\\AppData\\Local\\Temp\\ipykernel_28920\\2872376425.py:1: RuntimeWarning: invalid value encountered in divide\n",
      "  sine = (np.sin(x_1**2 + y_1**2))/(x_1**2 + y_1**2)\n"
     ]
    },
    {
     "data": {
      "image/png": "[encoded data removed]",
      "text/plain": [
       "<Figure size 640x480 with 2 Axes>"
      ]
     },
     "metadata": {},
     "output_type": "display_data"
    }
   ],
   "source": [
    "sine = (np.sin(x_1**2 + y_1**2))/(x_1**2 + y_1**2) \n",
    "plt.contourf(x_1, y_1, sine, cmap = 'jet') \n",
    " \n",
    "plt.colorbar() \n",
    "plt.show() "
   ]
  },
  {
   "cell_type": "code",
   "execution_count": 17,
   "id": "4e2c0b0b-bc2f-44a8-ae60-958fbaa111d4",
   "metadata": {},
   "outputs": [],
   "source": [
    "x_1, y_1 = np.meshgrid(x, y, sparse = True)"
   ]
  },
  {
   "cell_type": "code",
   "execution_count": 18,
   "id": "9e98027c-3b68-466a-b6ad-0efbc06e20b3",
   "metadata": {},
   "outputs": [
    {
     "data": {
      "text/plain": [
       "array([[-4., -3., -2., -1.,  0.,  1.,  2.,  3.,  4.]])"
      ]
     },
     "execution_count": 18,
     "metadata": {},
     "output_type": "execute_result"
    }
   ],
   "source": [
    "x_1"
   ]
  },
  {
   "cell_type": "code",
   "execution_count": 19,
   "id": "bab24085-60d8-4538-9395-5811974dfb47",
   "metadata": {},
   "outputs": [
    {
     "data": {
      "text/plain": [
       "array([[-5.],\n",
       "       [-4.],\n",
       "       [-3.],\n",
       "       [-2.],\n",
       "       [-1.],\n",
       "       [ 0.],\n",
       "       [ 1.],\n",
       "       [ 2.],\n",
       "       [ 3.],\n",
       "       [ 4.],\n",
       "       [ 5.]])"
      ]
     },
     "execution_count": 19,
     "metadata": {},
     "output_type": "execute_result"
    }
   ],
   "source": [
    "y_1"
   ]
  },
  {
   "cell_type": "code",
   "execution_count": 20,
   "id": "80db9e81-3fcf-4264-902e-27c238ae1b1e",
   "metadata": {},
   "outputs": [],
   "source": [
    "### Np.sort"
   ]
  },
  {
   "cell_type": "code",
   "execution_count": 21,
   "id": "45e6f63a-1153-4eaa-9dc9-0f093b438e82",
   "metadata": {},
   "outputs": [
    {
     "name": "stdout",
     "output_type": "stream",
     "text": [
      "[97  9 14 56 18  5 73 28 53 13 33 97 45 72  5]\n",
      "[[63 71 11 74]\n",
      " [40 99 12 21]\n",
      " [78 62 51 31]\n",
      " [74 46 22 50]\n",
      " [ 7 75 98 58]\n",
      " [37 54 51  9]]\n"
     ]
    }
   ],
   "source": [
    "a = np.random.randint(1,100,15) #1D \n",
    "print(a)\n",
    "b = np.random.randint(1,100,24).reshape(6,4) # 2D\n",
    "print(b)"
   ]
  },
  {
   "cell_type": "code",
   "execution_count": 23,
   "id": "8d3d4490-6033-4aa7-aa42-be2ef795997b",
   "metadata": {},
   "outputs": [
    {
     "data": {
      "text/plain": [
       "array([ 5,  5,  9, 13, 14, 18, 28, 33, 45, 53, 56, 72, 73, 97, 97])"
      ]
     },
     "execution_count": 23,
     "metadata": {},
     "output_type": "execute_result"
    }
   ],
   "source": [
    "np.sort(a) # Default= Ascending "
   ]
  },
  {
   "cell_type": "code",
   "execution_count": 24,
   "id": "7210eb38-e9cd-45a7-ba16-916195c0fc9d",
   "metadata": {},
   "outputs": [
    {
     "data": {
      "text/plain": [
       "array([97, 97, 73, 72, 56, 53, 45, 33, 28, 18, 14, 13,  9,  5,  5])"
      ]
     },
     "execution_count": 24,
     "metadata": {},
     "output_type": "execute_result"
    }
   ],
   "source": [
    " np.sort(a)[::-1] # Descending order "
   ]
  },
  {
   "cell_type": "code",
   "execution_count": 25,
   "id": "4839a09d-beed-49e9-9dea-7b093873b3ea",
   "metadata": {},
   "outputs": [
    {
     "data": {
      "text/plain": [
       "array([[11, 63, 71, 74],\n",
       "       [12, 21, 40, 99],\n",
       "       [31, 51, 62, 78],\n",
       "       [22, 46, 50, 74],\n",
       "       [ 7, 58, 75, 98],\n",
       "       [ 9, 37, 51, 54]])"
      ]
     },
     "execution_count": 25,
     "metadata": {},
     "output_type": "execute_result"
    }
   ],
   "source": [
    "np.sort(b)  # row rise sorting  "
   ]
  },
  {
   "cell_type": "code",
   "execution_count": 26,
   "id": "e49d5018-dcb5-4f1c-9a72-121ba8670d4c",
   "metadata": {},
   "outputs": [
    {
     "data": {
      "text/plain": [
       "array([[ 7, 46, 11,  9],\n",
       "       [37, 54, 12, 21],\n",
       "       [40, 62, 22, 31],\n",
       "       [63, 71, 51, 50],\n",
       "       [74, 75, 51, 58],\n",
       "       [78, 99, 98, 74]])"
      ]
     },
     "execution_count": 26,
     "metadata": {},
     "output_type": "execute_result"
    }
   ],
   "source": [
    "np.sort(b,axis = 0) # column rise sorting"
   ]
  },
  {
   "cell_type": "code",
   "execution_count": null,
   "id": "41f16c61-2403-4278-afbe-fd2f0096c850",
   "metadata": {},
   "outputs": [],
   "source": [
    "# np.append\n",
    "# appends values along the mentioned axis at the end of the array"
   ]
  },
  {
   "cell_type": "code",
   "execution_count": 27,
   "id": "34aa1140-450e-4277-b9d4-2203e3f56151",
   "metadata": {},
   "outputs": [
    {
     "data": {
      "text/plain": [
       "array([97,  9, 14, 56, 18,  5, 73, 28, 53, 13, 33, 97, 45, 72,  5])"
      ]
     },
     "execution_count": 27,
     "metadata": {},
     "output_type": "execute_result"
    }
   ],
   "source": [
    "a"
   ]
  },
  {
   "cell_type": "code",
   "execution_count": 28,
   "id": "0557c51c-8c7a-4c10-9aae-be745fd0350d",
   "metadata": {},
   "outputs": [
    {
     "data": {
      "text/plain": [
       "array([ 97,   9,  14,  56,  18,   5,  73,  28,  53,  13,  33,  97,  45,\n",
       "        72,   5, 200])"
      ]
     },
     "execution_count": 28,
     "metadata": {},
     "output_type": "execute_result"
    }
   ],
   "source": [
    "np.append(a,200)"
   ]
  },
  {
   "cell_type": "code",
   "execution_count": 29,
   "id": "1244bf12-6b5f-404c-b45e-d29cd6d447a7",
   "metadata": {},
   "outputs": [
    {
     "data": {
      "text/plain": [
       "array([[63, 71, 11, 74],\n",
       "       [40, 99, 12, 21],\n",
       "       [78, 62, 51, 31],\n",
       "       [74, 46, 22, 50],\n",
       "       [ 7, 75, 98, 58],\n",
       "       [37, 54, 51,  9]])"
      ]
     },
     "execution_count": 29,
     "metadata": {},
     "output_type": "execute_result"
    }
   ],
   "source": [
    "b"
   ]
  },
  {
   "cell_type": "code",
   "execution_count": 30,
   "id": "97829c0b-860f-4332-bf24-6489080d9ea5",
   "metadata": {},
   "outputs": [
    {
     "data": {
      "text/plain": [
       "array([63., 71., 11., 74., 40., 99., 12., 21., 78., 62., 51., 31., 74.,\n",
       "       46., 22., 50.,  7., 75., 98., 58., 37., 54., 51.,  9.,  1.,  1.,\n",
       "        1.,  1.,  1.,  1.])"
      ]
     },
     "execution_count": 30,
     "metadata": {},
     "output_type": "execute_result"
    }
   ],
   "source": [
    "np.append(b,np.ones((b.shape[0],1)))"
   ]
  },
  {
   "cell_type": "code",
   "execution_count": 31,
   "id": "356ade6a-dc19-4137-884d-d8474bd5b6b9",
   "metadata": {},
   "outputs": [
    {
     "data": {
      "text/plain": [
       "array([[63., 71., 11., 74.,  1.],\n",
       "       [40., 99., 12., 21.,  1.],\n",
       "       [78., 62., 51., 31.,  1.],\n",
       "       [74., 46., 22., 50.,  1.],\n",
       "       [ 7., 75., 98., 58.,  1.],\n",
       "       [37., 54., 51.,  9.,  1.]])"
      ]
     },
     "execution_count": 31,
     "metadata": {},
     "output_type": "execute_result"
    }
   ],
   "source": [
    "np.append(b,np.ones((b.shape[0],1)),axis=1) "
   ]
  },
  {
   "cell_type": "code",
   "execution_count": 32,
   "id": "fa632450-9039-4b7b-9dac-3721feb11472",
   "metadata": {},
   "outputs": [
    {
     "data": {
      "text/plain": [
       "array([[63.        , 71.        , 11.        , 74.        ,  0.61366436],\n",
       "       [40.        , 99.        , 12.        , 21.        ,  0.4274859 ],\n",
       "       [78.        , 62.        , 51.        , 31.        ,  0.83333103],\n",
       "       [74.        , 46.        , 22.        , 50.        ,  0.9551927 ],\n",
       "       [ 7.        , 75.        , 98.        , 58.        ,  0.17948748],\n",
       "       [37.        , 54.        , 51.        ,  9.        ,  0.39645673]])"
      ]
     },
     "execution_count": 32,
     "metadata": {},
     "output_type": "execute_result"
    }
   ],
   "source": [
    "# Adding random numbers in new column \n",
    "\n",
    "np.append(b,np.random.random((b.shape[0],1)),axis=1) "
   ]
  },
  {
   "cell_type": "code",
   "execution_count": 33,
   "id": "6c6e6790-881c-4e97-b3b8-29d67ac20a47",
   "metadata": {},
   "outputs": [
    {
     "name": "stdout",
     "output_type": "stream",
     "text": [
      "[[0 1 2]\n",
      " [3 4 5]]\n",
      "[[ 6  7  8]\n",
      " [ 9 10 11]]\n"
     ]
    }
   ],
   "source": [
    "# np.concatenate\n",
    "#numpy.concatenate() function concatenate a sequence of arrays along \n",
    "# an existing axis.\n",
    "\n",
    "c = np.arange(6).reshape(2,3) \n",
    "d = np.arange(6,12).reshape(2,3) \n",
    "print(c)\n",
    "print(d)"
   ]
  },
  {
   "cell_type": "code",
   "execution_count": 34,
   "id": "f97a67fe-be82-47b5-8703-786bbd3af65c",
   "metadata": {},
   "outputs": [
    {
     "data": {
      "text/plain": [
       "array([[ 0,  1,  2],\n",
       "       [ 3,  4,  5],\n",
       "       [ 6,  7,  8],\n",
       "       [ 9, 10, 11]])"
      ]
     },
     "execution_count": 34,
     "metadata": {},
     "output_type": "execute_result"
    }
   ],
   "source": [
    "np.concatenate((c,d))  # Row wise"
   ]
  },
  {
   "cell_type": "code",
   "execution_count": 35,
   "id": "a87de66a-8d9b-44d6-a06b-cd03385a6b23",
   "metadata": {},
   "outputs": [
    {
     "data": {
      "text/plain": [
       "array([[ 0,  1,  2,  6,  7,  8],\n",
       "       [ 3,  4,  5,  9, 10, 11]])"
      ]
     },
     "execution_count": 35,
     "metadata": {},
     "output_type": "execute_result"
    }
   ],
   "source": [
    "np.concatenate((c,d), axis=1)  # column wise"
   ]
  },
  {
   "cell_type": "code",
   "execution_count": 36,
   "id": "1af08a71-42e1-43a5-af2b-13aad50b6897",
   "metadata": {},
   "outputs": [
    {
     "name": "stdout",
     "output_type": "stream",
     "text": [
      "[1 1 2 2 3 3 4 4 5 5 6 6]\n",
      "[1 2 3 4 5 6]\n"
     ]
    }
   ],
   "source": [
    "# np.unique\n",
    "# With the help of np.unique() method, \n",
    "# we can get the unique values from an array given as parameter in np.unique() method\n",
    "\n",
    "e = np.array([1,1,2,2,3,3,4,4,5,5,6,6]) \n",
    "print(e)\n",
    "\n",
    "print(np.unique(e))"
   ]
  },
  {
   "cell_type": "code",
   "execution_count": 37,
   "id": "f239e763-31cf-4c6c-8bc1-de6c7d685945",
   "metadata": {},
   "outputs": [
    {
     "name": "stdout",
     "output_type": "stream",
     "text": [
      "[97  9 14 56 18  5 73 28 53 13 33 97 45 72  5]\n",
      "(15,)\n"
     ]
    }
   ],
   "source": [
    "# np.expand_dims\n",
    "print(a)\n",
    "print(a.shape) # 1 D"
   ]
  },
  {
   "cell_type": "code",
   "execution_count": 38,
   "id": "e661b229-245e-43d2-ba7e-6dd8f5fe1822",
   "metadata": {},
   "outputs": [
    {
     "data": {
      "text/plain": [
       "array([[97,  9, 14, 56, 18,  5, 73, 28, 53, 13, 33, 97, 45, 72,  5]])"
      ]
     },
     "execution_count": 38,
     "metadata": {},
     "output_type": "execute_result"
    }
   ],
   "source": [
    "# converting into 2D array \n",
    "np.expand_dims(a,axis = 0)"
   ]
  },
  {
   "cell_type": "code",
   "execution_count": 39,
   "id": "a4209e3e-b420-4185-898b-932cee5ea6a4",
   "metadata": {},
   "outputs": [
    {
     "data": {
      "text/plain": [
       "(1, 15)"
      ]
     },
     "execution_count": 39,
     "metadata": {},
     "output_type": "execute_result"
    }
   ],
   "source": [
    "np.expand_dims(a,axis = 0).shape # 2D "
   ]
  },
  {
   "cell_type": "code",
   "execution_count": 40,
   "id": "abceca3c-5116-4527-981b-a38a5615c299",
   "metadata": {},
   "outputs": [
    {
     "data": {
      "text/plain": [
       "array([[97],\n",
       "       [ 9],\n",
       "       [14],\n",
       "       [56],\n",
       "       [18],\n",
       "       [ 5],\n",
       "       [73],\n",
       "       [28],\n",
       "       [53],\n",
       "       [13],\n",
       "       [33],\n",
       "       [97],\n",
       "       [45],\n",
       "       [72],\n",
       "       [ 5]])"
      ]
     },
     "execution_count": 40,
     "metadata": {},
     "output_type": "execute_result"
    }
   ],
   "source": [
    "np.expand_dims(a,axis = 1) "
   ]
  },
  {
   "cell_type": "code",
   "execution_count": 41,
   "id": "6e2e1174-7db5-4fdc-ba12-d1a2c4bf0029",
   "metadata": {},
   "outputs": [
    {
     "data": {
      "text/plain": [
       "(15, 1)"
      ]
     },
     "execution_count": 41,
     "metadata": {},
     "output_type": "execute_result"
    }
   ],
   "source": [
    "np.expand_dims(a,axis = 1).shape"
   ]
  },
  {
   "cell_type": "code",
   "execution_count": 42,
   "id": "d38d3fad-b970-4477-8f7c-3b02cd7887cf",
   "metadata": {},
   "outputs": [
    {
     "data": {
      "text/plain": [
       "array([97,  9, 14, 56, 18,  5, 73, 28, 53, 13, 33, 97, 45, 72,  5])"
      ]
     },
     "execution_count": 42,
     "metadata": {},
     "output_type": "execute_result"
    }
   ],
   "source": [
    "# np.where\n",
    "a"
   ]
  },
  {
   "cell_type": "code",
   "execution_count": 43,
   "id": "a5951fec-e588-4e43-a1fd-da3d6b1d60d5",
   "metadata": {},
   "outputs": [
    {
     "data": {
      "text/plain": [
       "(array([ 0,  3,  6,  8, 11, 13], dtype=int64),)"
      ]
     },
     "execution_count": 43,
     "metadata": {},
     "output_type": "execute_result"
    }
   ],
   "source": [
    "np.where(a>50)"
   ]
  },
  {
   "cell_type": "code",
   "execution_count": 44,
   "id": "7412e55d-248b-4e23-8692-6157a6458270",
   "metadata": {},
   "outputs": [
    {
     "data": {
      "text/plain": [
       "array([ 0,  9, 14,  0, 18,  5,  0, 28,  0, 13, 33,  0, 45,  0,  5])"
      ]
     },
     "execution_count": 44,
     "metadata": {},
     "output_type": "execute_result"
    }
   ],
   "source": [
    "np.where(a>50,0,a)"
   ]
  },
  {
   "cell_type": "code",
   "execution_count": 45,
   "id": "89ed668b-1d0b-4ad2-be0e-02afeba145a7",
   "metadata": {},
   "outputs": [
    {
     "data": {
      "text/plain": [
       "array([97,  9,  0,  0,  0,  5, 73,  0, 53, 13, 33, 97, 45,  0,  5])"
      ]
     },
     "execution_count": 45,
     "metadata": {},
     "output_type": "execute_result"
    }
   ],
   "source": [
    "np.where(a%2 == 0,0,a)"
   ]
  },
  {
   "cell_type": "code",
   "execution_count": 46,
   "id": "ad443cd2-edec-4dcc-b287-e75f7b0fa354",
   "metadata": {},
   "outputs": [
    {
     "name": "stdout",
     "output_type": "stream",
     "text": [
      "[97  9 14 56 18  5 73 28 53 13 33 97 45 72  5]\n"
     ]
    },
    {
     "data": {
      "text/plain": [
       "0"
      ]
     },
     "execution_count": 46,
     "metadata": {},
     "output_type": "execute_result"
    }
   ],
   "source": [
    "# np.argmax \n",
    "# The numpy.argmax() function returns indices of the max element of \n",
    "# the array in a particular axis. \n",
    "# arg = argument\n",
    "print(a)\n",
    "np.argmax(a) # biggest number : index number "
   ]
  },
  {
   "cell_type": "code",
   "execution_count": 47,
   "id": "9edb660d-cb03-40c9-ad61-6acaf8b9f4de",
   "metadata": {},
   "outputs": [
    {
     "data": {
      "text/plain": [
       "array([[63, 71, 11, 74],\n",
       "       [40, 99, 12, 21],\n",
       "       [78, 62, 51, 31],\n",
       "       [74, 46, 22, 50],\n",
       "       [ 7, 75, 98, 58],\n",
       "       [37, 54, 51,  9]])"
      ]
     },
     "execution_count": 47,
     "metadata": {},
     "output_type": "execute_result"
    }
   ],
   "source": [
    " b "
   ]
  },
  {
   "cell_type": "code",
   "execution_count": 48,
   "id": "a1ac4cac-7ce9-4e03-8a79-5565587a4216",
   "metadata": {},
   "outputs": [
    {
     "data": {
      "text/plain": [
       "array([3, 1, 0, 0, 2, 1], dtype=int64)"
      ]
     },
     "execution_count": 48,
     "metadata": {},
     "output_type": "execute_result"
    }
   ],
   "source": [
    "np.argmax(b,axis =1) # row wise bigest number : index"
   ]
  },
  {
   "cell_type": "code",
   "execution_count": 49,
   "id": "734a2706-ca67-4101-b9f6-ee5b0019cb60",
   "metadata": {},
   "outputs": [
    {
     "data": {
      "text/plain": [
       "array([2, 1, 4, 0], dtype=int64)"
      ]
     },
     "execution_count": 49,
     "metadata": {},
     "output_type": "execute_result"
    }
   ],
   "source": [
    "np.argmax(b,axis =0) # column wise bigest number : index"
   ]
  },
  {
   "cell_type": "code",
   "execution_count": 50,
   "id": "a679fc7e-d630-432c-9b47-cf04937e6e10",
   "metadata": {},
   "outputs": [
    {
     "name": "stdout",
     "output_type": "stream",
     "text": [
      "[97  9 14 56 18  5 73 28 53 13 33 97 45 72  5]\n"
     ]
    },
    {
     "data": {
      "text/plain": [
       "5"
      ]
     },
     "execution_count": 50,
     "metadata": {},
     "output_type": "execute_result"
    }
   ],
   "source": [
    "# np.argmin \n",
    "print(a)\n",
    "np.argmin(a)"
   ]
  },
  {
   "cell_type": "code",
   "execution_count": 51,
   "id": "244c493a-8656-4efd-9dfb-28a50e73f012",
   "metadata": {},
   "outputs": [
    {
     "name": "stdout",
     "output_type": "stream",
     "text": [
      "[97  9 14 56 18  5 73 28 53 13 33 97 45 72  5]\n"
     ]
    }
   ],
   "source": [
    "#On Statistics: \n",
    "print(a)"
   ]
  },
  {
   "cell_type": "code",
   "execution_count": 52,
   "id": "3f7af2c5-7804-4c73-8b90-f5f2d56664fe",
   "metadata": {},
   "outputs": [
    {
     "name": "stdout",
     "output_type": "stream",
     "text": [
      "[[63 71 11 74]\n",
      " [40 99 12 21]\n",
      " [78 62 51 31]\n",
      " [74 46 22 50]\n",
      " [ 7 75 98 58]\n",
      " [37 54 51  9]]\n"
     ]
    },
    {
     "data": {
      "text/plain": [
       "array([  63,  134,  145,  219,  259,  358,  370,  391,  469,  531,  582,\n",
       "        613,  687,  733,  755,  805,  812,  887,  985, 1043, 1080, 1134,\n",
       "       1185, 1194])"
      ]
     },
     "execution_count": 52,
     "metadata": {},
     "output_type": "execute_result"
    }
   ],
   "source": [
    "# np.cumsum\n",
    "np.cumsum(a)\n",
    "print(b)\n",
    "np.cumsum(b)"
   ]
  },
  {
   "cell_type": "code",
   "execution_count": 53,
   "id": "e0dec614-7237-44f7-be68-b8ec41f13452",
   "metadata": {},
   "outputs": [
    {
     "data": {
      "text/plain": [
       "array([[ 63, 134, 145, 219],\n",
       "       [ 40, 139, 151, 172],\n",
       "       [ 78, 140, 191, 222],\n",
       "       [ 74, 120, 142, 192],\n",
       "       [  7,  82, 180, 238],\n",
       "       [ 37,  91, 142, 151]])"
      ]
     },
     "execution_count": 53,
     "metadata": {},
     "output_type": "execute_result"
    }
   ],
   "source": [
    "np.cumsum(b,axis=1) # row wise calculation or cumulative sum "
   ]
  },
  {
   "cell_type": "code",
   "execution_count": 54,
   "id": "5623ab6c-be0e-4a2f-9913-3a04841ce185",
   "metadata": {},
   "outputs": [
    {
     "data": {
      "text/plain": [
       "array([[ 63,  71,  11,  74],\n",
       "       [103, 170,  23,  95],\n",
       "       [181, 232,  74, 126],\n",
       "       [255, 278,  96, 176],\n",
       "       [262, 353, 194, 234],\n",
       "       [299, 407, 245, 243]])"
      ]
     },
     "execution_count": 54,
     "metadata": {},
     "output_type": "execute_result"
    }
   ],
   "source": [
    "np.cumsum(b,axis=0) # column wise calculation or cumulative sum"
   ]
  },
  {
   "cell_type": "code",
   "execution_count": 55,
   "id": "0fe7c859-86f2-46ce-8d39-603c1457cb98",
   "metadata": {},
   "outputs": [
    {
     "name": "stdout",
     "output_type": "stream",
     "text": [
      "[97  9 14 56 18  5 73 28 53 13 33 97 45 72  5]\n"
     ]
    },
    {
     "data": {
      "text/plain": [
       "array([         97,         873,       12222,      684432,    12319776,\n",
       "          61598880,   201750944,  1354059136, -1249309824,   938841472,\n",
       "         916997504, -1245555328,  -215414912,  1669995520,  -239956992])"
      ]
     },
     "execution_count": 55,
     "metadata": {},
     "output_type": "execute_result"
    }
   ],
   "source": [
    "# np.cumprod --> Multiply\n",
    "print(a)\n",
    "np.cumprod(a)"
   ]
  },
  {
   "cell_type": "code",
   "execution_count": 56,
   "id": "73ec87d3-698e-44a4-9757-3a4d87ba52b5",
   "metadata": {},
   "outputs": [
    {
     "name": "stdout",
     "output_type": "stream",
     "text": [
      "[97  9 14 56 18  5 73 28 53 13 33 97 45 72  5]\n"
     ]
    }
   ],
   "source": [
    "# np.percentile\n",
    "# numpy.percentile()function used to compute the nth percentile of the given data (array \n",
    "# elements) along the specified axis. \n",
    "print(a)"
   ]
  },
  {
   "cell_type": "code",
   "execution_count": 57,
   "id": "8f8b2928-4f00-4934-98bb-f8d5315f74d9",
   "metadata": {},
   "outputs": [
    {
     "data": {
      "text/plain": [
       "97.0"
      ]
     },
     "execution_count": 57,
     "metadata": {},
     "output_type": "execute_result"
    }
   ],
   "source": [
    "np.percentile(a, 100) # Max"
   ]
  },
  {
   "cell_type": "code",
   "execution_count": 58,
   "id": "da7b179b-2d30-4711-ac85-b6606f5ef947",
   "metadata": {},
   "outputs": [
    {
     "data": {
      "text/plain": [
       "5.0"
      ]
     },
     "execution_count": 58,
     "metadata": {},
     "output_type": "execute_result"
    }
   ],
   "source": [
    "np.percentile(a, 0)  # Min"
   ]
  },
  {
   "cell_type": "code",
   "execution_count": 59,
   "id": "77ab6730-bf63-4c3c-af96-afc55c36c2c6",
   "metadata": {},
   "outputs": [
    {
     "data": {
      "text/plain": [
       "33.0"
      ]
     },
     "execution_count": 59,
     "metadata": {},
     "output_type": "execute_result"
    }
   ],
   "source": [
    "np.percentile(a,50) # Median"
   ]
  },
  {
   "cell_type": "code",
   "execution_count": 60,
   "id": "579e16d5-0715-4d91-894a-d744eb7f6c00",
   "metadata": {},
   "outputs": [
    {
     "name": "stdout",
     "output_type": "stream",
     "text": [
      "[97  9 14 56 18  5 73 28 53 13 33 97 45 72  5]\n"
     ]
    },
    {
     "data": {
      "text/plain": [
       "(array([3, 1, 1, 1, 2, 0, 2, 0, 2], dtype=int64),\n",
       " array([ 10,  20,  30,  40,  50,  60,  70,  80,  90, 100]))"
      ]
     },
     "execution_count": 60,
     "metadata": {},
     "output_type": "execute_result"
    }
   ],
   "source": [
    "# np.histogram \n",
    "# Numpy has a built-in numpy.histogram() function which represents \n",
    "# the frequency of data distribution in the graphical form.\n",
    "\n",
    "print(a)\n",
    "np.histogram(a, bins=[10,20,30,40,50,60,70,80,90,100])"
   ]
  },
  {
   "cell_type": "code",
   "execution_count": 61,
   "id": "f94ff33a-22b8-4638-babf-af398edc87db",
   "metadata": {},
   "outputs": [
    {
     "data": {
      "text/plain": [
       "(array([9, 6], dtype=int64), array([  0,  50, 100]))"
      ]
     },
     "execution_count": 61,
     "metadata": {},
     "output_type": "execute_result"
    }
   ],
   "source": [
    "np.histogram(a , bins= [0,50,100])"
   ]
  },
  {
   "cell_type": "code",
   "execution_count": 62,
   "id": "9c81bf59-a13f-4880-8fb3-8a29e5751c77",
   "metadata": {},
   "outputs": [
    {
     "name": "stdout",
     "output_type": "stream",
     "text": [
      "[20000 40000 25000 35000 60000]\n",
      "[1 3 2 4 2]\n"
     ]
    }
   ],
   "source": [
    "# np.corrcoef\n",
    "# Return Pearson product-moment correlation coefficients.\n",
    "\n",
    "salary = np.array([20000,40000,25000,35000,60000]) \n",
    "experience = np.array([1,3,2,4,2]) \n",
    "print(salary)\n",
    "print(experience)"
   ]
  },
  {
   "cell_type": "code",
   "execution_count": 63,
   "id": "01544380-685d-4992-aec9-e0281c8484af",
   "metadata": {},
   "outputs": [
    {
     "data": {
      "text/plain": [
       "array([[1.        , 0.25344572],\n",
       "       [0.25344572, 1.        ]])"
      ]
     },
     "execution_count": 63,
     "metadata": {},
     "output_type": "execute_result"
    }
   ],
   "source": [
    "np.corrcoef(salary,experience) # Correlation Coefficient "
   ]
  },
  {
   "cell_type": "code",
   "execution_count": 64,
   "id": "c6abef4d-35cf-4c7c-b5a0-0f3c251e4158",
   "metadata": {},
   "outputs": [],
   "source": [
    "# Utility functions"
   ]
  },
  {
   "cell_type": "code",
   "execution_count": 147,
   "id": "f9137bd1-16a7-436a-b7c3-714f4881a1e4",
   "metadata": {},
   "outputs": [
    {
     "data": {
      "text/plain": [
       "array([[ 0,  1,  2,  3],\n",
       "       [ 4,  5,  6,  7],\n",
       "       [ 8,  9, 10, 11]])"
      ]
     },
     "execution_count": 147,
     "metadata": {},
     "output_type": "execute_result"
    }
   ],
   "source": [
    "# np.isin\n",
    "# With the help of numpy.isin() method, we can see that one array having values are checked in \n",
    "# a different numpy array having different elements with different sizes.\n",
    "a"
   ]
  },
  {
   "cell_type": "code",
   "execution_count": 65,
   "id": "dbfc7d60-00f3-418f-947b-65fc21b9c619",
   "metadata": {},
   "outputs": [
    {
     "data": {
      "text/plain": [
       "array([False, False, False, False, False, False, False, False, False,\n",
       "       False, False, False, False, False, False])"
      ]
     },
     "execution_count": 65,
     "metadata": {},
     "output_type": "execute_result"
    }
   ],
   "source": [
    "items = [10,20,30,40,50,60,70,80,90,100]  \n",
    "np.isin(a,items)"
   ]
  },
  {
   "cell_type": "code",
   "execution_count": 66,
   "id": "955b6bb6-a809-42f1-86ea-cf8441a5f2d9",
   "metadata": {},
   "outputs": [
    {
     "data": {
      "text/plain": [
       "array([], dtype=int32)"
      ]
     },
     "execution_count": 66,
     "metadata": {},
     "output_type": "execute_result"
    }
   ],
   "source": [
    "a[np.isin(a,items)] "
   ]
  },
  {
   "cell_type": "code",
   "execution_count": 67,
   "id": "a29d3de2-1fe1-452b-a235-20aa2cb6afcb",
   "metadata": {},
   "outputs": [
    {
     "data": {
      "text/plain": [
       "array([97,  9, 14, 56, 18,  5, 73, 28, 53, 13, 33, 97, 45, 72,  5])"
      ]
     },
     "execution_count": 67,
     "metadata": {},
     "output_type": "execute_result"
    }
   ],
   "source": [
    "# np.flip\n",
    "# The numpy.flip() function reverses the order of array elements along the specified axis, \n",
    "# preserving the shape of the array.\n",
    "a"
   ]
  },
  {
   "cell_type": "code",
   "execution_count": 68,
   "id": "06b1f857-5089-41d0-b3db-2a99a14eb84d",
   "metadata": {},
   "outputs": [
    {
     "data": {
      "text/plain": [
       "array([ 5, 72, 45, 97, 33, 13, 53, 28, 73,  5, 18, 56, 14,  9, 97])"
      ]
     },
     "execution_count": 68,
     "metadata": {},
     "output_type": "execute_result"
    }
   ],
   "source": [
    "np.flip(a) # reverse "
   ]
  },
  {
   "cell_type": "code",
   "execution_count": 69,
   "id": "e588411b-52af-4164-b7aa-8a2c151ee845",
   "metadata": {},
   "outputs": [
    {
     "data": {
      "text/plain": [
       "array([[ 6, 51, 40, 85],\n",
       "       [35, 28, 91, 68],\n",
       "       [27, 30,  6,  4],\n",
       "       [18, 48, 48, 15],\n",
       "       [35, 45, 99, 17],\n",
       "       [42, 29, 88, 31]])"
      ]
     },
     "execution_count": 69,
     "metadata": {},
     "output_type": "execute_result"
    }
   ],
   "source": [
    "b = np.array([[ 6, 51, 40, 85], \n",
    " [35, 28, 91, 68], \n",
    " [27, 30, 6, 4], \n",
    " [18, 48, 48, 15], \n",
    " [35, 45, 99, 17], \n",
    " [42, 29, 88, 31]])\n",
    "b"
   ]
  },
  {
   "cell_type": "code",
   "execution_count": 70,
   "id": "a0e37473-9fe5-4335-a598-0aa6ed864f45",
   "metadata": {},
   "outputs": [
    {
     "data": {
      "text/plain": [
       "array([[31, 88, 29, 42],\n",
       "       [17, 99, 45, 35],\n",
       "       [15, 48, 48, 18],\n",
       "       [ 4,  6, 30, 27],\n",
       "       [68, 91, 28, 35],\n",
       "       [85, 40, 51,  6]])"
      ]
     },
     "execution_count": 70,
     "metadata": {},
     "output_type": "execute_result"
    }
   ],
   "source": [
    "np.flip(b) "
   ]
  },
  {
   "cell_type": "code",
   "execution_count": 71,
   "id": "9e84f82a-25d7-41f4-a9f3-8e504ebdd3c5",
   "metadata": {},
   "outputs": [
    {
     "data": {
      "text/plain": [
       "array([[85, 40, 51,  6],\n",
       "       [68, 91, 28, 35],\n",
       "       [ 4,  6, 30, 27],\n",
       "       [15, 48, 48, 18],\n",
       "       [17, 99, 45, 35],\n",
       "       [31, 88, 29, 42]])"
      ]
     },
     "execution_count": 71,
     "metadata": {},
     "output_type": "execute_result"
    }
   ],
   "source": [
    "np.flip(b,axis = 1) # row"
   ]
  },
  {
   "cell_type": "code",
   "execution_count": 72,
   "id": "ebe76986-bbf2-47b0-ad7a-1ee748d4372b",
   "metadata": {},
   "outputs": [
    {
     "data": {
      "text/plain": [
       "array([[42, 29, 88, 31],\n",
       "       [35, 45, 99, 17],\n",
       "       [18, 48, 48, 15],\n",
       "       [27, 30,  6,  4],\n",
       "       [35, 28, 91, 68],\n",
       "       [ 6, 51, 40, 85]])"
      ]
     },
     "execution_count": 72,
     "metadata": {},
     "output_type": "execute_result"
    }
   ],
   "source": [
    "np.flip(b,axis = 0) # colum"
   ]
  },
  {
   "cell_type": "code",
   "execution_count": 73,
   "id": "16580583-2cc8-4d79-a934-4ab4e2beb638",
   "metadata": {},
   "outputs": [
    {
     "data": {
      "text/plain": [
       "array([97,  9, 14, 56, 18,  5, 73, 28, 53, 13, 33, 97, 45, 72,  5])"
      ]
     },
     "execution_count": 73,
     "metadata": {},
     "output_type": "execute_result"
    }
   ],
   "source": [
    "# np.put\n",
    "# The numpy.put() function replaces specific elements of an array \n",
    "# with given values of p_array.Array indexed works on flattened array.\n",
    "a"
   ]
  },
  {
   "cell_type": "code",
   "execution_count": 74,
   "id": "233d10bf-e64e-4c27-8926-77b185141ac6",
   "metadata": {},
   "outputs": [
    {
     "data": {
      "text/plain": [
       "array([110, 230,  14,  56,  18,   5,  73,  28,  53,  13,  33,  97,  45,\n",
       "        72,   5])"
      ]
     },
     "execution_count": 74,
     "metadata": {},
     "output_type": "execute_result"
    }
   ],
   "source": [
    "np.put(a,[0,1],[110,230])  # permanent changes \n",
    "a"
   ]
  },
  {
   "cell_type": "code",
   "execution_count": 75,
   "id": "dea36125-f5c5-4ab1-9681-8f0e58573194",
   "metadata": {},
   "outputs": [
    {
     "data": {
      "text/plain": [
       "array([110, 230,  14,  56,  18,   5,  73,  28,  53,  13,  33,  97,  45,\n",
       "        72,   5])"
      ]
     },
     "execution_count": 75,
     "metadata": {},
     "output_type": "execute_result"
    }
   ],
   "source": [
    "# np.delete\n",
    "# The numpy.delete() function returns a new array with the deletion of sub-arrays along with the \n",
    "# mentioned axis. \n",
    "a"
   ]
  },
  {
   "cell_type": "code",
   "execution_count": 76,
   "id": "96fefa56-e226-41ff-9717-37524de69313",
   "metadata": {},
   "outputs": [
    {
     "data": {
      "text/plain": [
       "array([230,  14,  56,  18,   5,  73,  28,  53,  13,  33,  97,  45,  72,\n",
       "         5])"
      ]
     },
     "execution_count": 76,
     "metadata": {},
     "output_type": "execute_result"
    }
   ],
   "source": [
    "np.delete(a,0) # deleted 0 index item"
   ]
  },
  {
   "cell_type": "code",
   "execution_count": 77,
   "id": "d4b7544e-0641-4697-87f5-be422e6d8aa6",
   "metadata": {},
   "outputs": [
    {
     "data": {
      "text/plain": [
       "array([230,  56,   5,  73,  28,  53,  13,  33,  97,  45,  72,   5])"
      ]
     },
     "execution_count": 77,
     "metadata": {},
     "output_type": "execute_result"
    }
   ],
   "source": [
    "np.delete(a,[0,2,4]) # deleted 0,2,4 index items "
   ]
  },
  {
   "cell_type": "code",
   "execution_count": 78,
   "id": "8fa59859-a083-4745-a33e-4a3558e27475",
   "metadata": {},
   "outputs": [],
   "source": [
    "# Set functions \n",
    " # np.union1d \n",
    " # np.intersect1d \n",
    " # np.setdiff1d \n",
    " # np.setxor1d \n",
    " # np.in1d\n"
   ]
  },
  {
   "cell_type": "code",
   "execution_count": 80,
   "id": "ce1bdf55-904e-4e28-9188-58df11e7fab1",
   "metadata": {},
   "outputs": [],
   "source": [
    "m = np.array([1,2,3,4,5]) \n",
    "n = np.array([3,4,5,6,7]) "
   ]
  },
  {
   "cell_type": "code",
   "execution_count": 81,
   "id": "71d6da44-4cb7-400c-9856-4b85031f093f",
   "metadata": {},
   "outputs": [
    {
     "data": {
      "text/plain": [
       "array([3, 4, 5])"
      ]
     },
     "execution_count": 81,
     "metadata": {},
     "output_type": "execute_result"
    }
   ],
   "source": [
    "# Intersection  \n",
    "np.intersect1d(m,n) "
   ]
  },
  {
   "cell_type": "code",
   "execution_count": 82,
   "id": "f67509e2-1369-427f-a988-aaec2ce10f8b",
   "metadata": {},
   "outputs": [
    {
     "data": {
      "text/plain": [
       "array([1, 2])"
      ]
     },
     "execution_count": 82,
     "metadata": {},
     "output_type": "execute_result"
    }
   ],
   "source": [
    "# Set difference  \n",
    "np.setdiff1d(m,n) "
   ]
  },
  {
   "cell_type": "code",
   "execution_count": 83,
   "id": "4b861c69-ce22-442c-b2f6-3b021bfcdc90",
   "metadata": {},
   "outputs": [
    {
     "data": {
      "text/plain": [
       "array([6, 7])"
      ]
     },
     "execution_count": 83,
     "metadata": {},
     "output_type": "execute_result"
    }
   ],
   "source": [
    "np.setdiff1d(n,m) "
   ]
  },
  {
   "cell_type": "code",
   "execution_count": 84,
   "id": "1b688e8d-4ef7-4ab4-8380-27822337221f",
   "metadata": {},
   "outputs": [
    {
     "data": {
      "text/plain": [
       "array([1, 2, 6, 7])"
      ]
     },
     "execution_count": 84,
     "metadata": {},
     "output_type": "execute_result"
    }
   ],
   "source": [
    "# set Xor  \n",
    "np.setxor1d(m,n)"
   ]
  },
  {
   "cell_type": "code",
   "execution_count": 85,
   "id": "025543c5-44b7-4a3d-84c6-fbb65085d13e",
   "metadata": {},
   "outputs": [
    {
     "data": {
      "text/plain": [
       "array([ True, False, False, False, False])"
      ]
     },
     "execution_count": 85,
     "metadata": {},
     "output_type": "execute_result"
    }
   ],
   "source": [
    "# in 1D ( like membership operator)  \n",
    "np.in1d(m,1) "
   ]
  },
  {
   "cell_type": "code",
   "execution_count": 86,
   "id": "abcbec1c-a481-48ff-9090-b1c2e7b346d2",
   "metadata": {},
   "outputs": [
    {
     "data": {
      "text/plain": [
       "array([1])"
      ]
     },
     "execution_count": 86,
     "metadata": {},
     "output_type": "execute_result"
    }
   ],
   "source": [
    "m[np.in1d(m,1)] "
   ]
  },
  {
   "cell_type": "code",
   "execution_count": 87,
   "id": "6071c770-891b-461c-859d-e35b0256aadb",
   "metadata": {},
   "outputs": [
    {
     "data": {
      "text/plain": [
       "array([False, False, False, False, False])"
      ]
     },
     "execution_count": 87,
     "metadata": {},
     "output_type": "execute_result"
    }
   ],
   "source": [
    "np.in1d(m,10)"
   ]
  },
  {
   "cell_type": "code",
   "execution_count": 88,
   "id": "cc8535ff-f1af-4ae9-9b53-a6680d6cddf2",
   "metadata": {},
   "outputs": [
    {
     "data": {
      "text/plain": [
       "array([110, 230,  14,  56,  18,   5,  73,  28,  53,  13,  33,  97,  45,\n",
       "        72,   5])"
      ]
     },
     "execution_count": 88,
     "metadata": {},
     "output_type": "execute_result"
    }
   ],
   "source": [
    "# np.clip \n",
    "# numpy.clip() function is used to Clip (limit) the values in an array. \n",
    "a"
   ]
  },
  {
   "cell_type": "code",
   "execution_count": 89,
   "id": "f2235b54-37da-4561-9b72-ac1a5c5c4766",
   "metadata": {},
   "outputs": [
    {
     "data": {
      "text/plain": [
       "array([50, 50, 15, 50, 18, 15, 50, 28, 50, 15, 33, 50, 45, 50, 15])"
      ]
     },
     "execution_count": 89,
     "metadata": {},
     "output_type": "execute_result"
    }
   ],
   "source": [
    "np.clip(a, a_min=15 , a_max =50) "
   ]
  },
  {
   "cell_type": "code",
   "execution_count": 90,
   "id": "de13c6f9-b54b-4076-ac0f-ebb4f0ca813d",
   "metadata": {},
   "outputs": [],
   "source": [
    "# np.swapaxes \n",
    "# numpy.swapaxes() function interchange two axes of an array. "
   ]
  },
  {
   "cell_type": "code",
   "execution_count": 91,
   "id": "8c3b50f1-6136-4bd7-9eb5-142b04886ce5",
   "metadata": {},
   "outputs": [
    {
     "data": {
      "text/plain": [
       "array([[1, 2, 3],\n",
       "       [4, 5, 6]])"
      ]
     },
     "execution_count": 91,
     "metadata": {},
     "output_type": "execute_result"
    }
   ],
   "source": [
    "arr = np.array([[1, 2, 3], [4, 5, 6]]) \n",
    "swapped_arr = np.swapaxes(arr, 0, 1) \n",
    "arr"
   ]
  },
  {
   "cell_type": "code",
   "execution_count": 92,
   "id": "85493df2-e384-4011-bcaa-d04d8db11bd1",
   "metadata": {},
   "outputs": [
    {
     "data": {
      "text/plain": [
       "array([[1, 4],\n",
       "       [2, 5],\n",
       "       [3, 6]])"
      ]
     },
     "execution_count": 92,
     "metadata": {},
     "output_type": "execute_result"
    }
   ],
   "source": [
    "swapped_arr"
   ]
  },
  {
   "cell_type": "code",
   "execution_count": 93,
   "id": "67a6eacc-c1a4-4635-a852-8cce8d676b0b",
   "metadata": {},
   "outputs": [
    {
     "name": "stdout",
     "output_type": "stream",
     "text": [
      "Original array:\n",
      "[[1 2 3]\n",
      " [4 5 6]]\n"
     ]
    }
   ],
   "source": [
    "print(\"Original array:\") \n",
    "print(arr) "
   ]
  },
  {
   "cell_type": "code",
   "execution_count": 94,
   "id": "82497e4a-3837-477c-aca1-c9c605d22b15",
   "metadata": {},
   "outputs": [
    {
     "name": "stdout",
     "output_type": "stream",
     "text": [
      "Swapped array:\n",
      "[[1 4]\n",
      " [2 5]\n",
      " [3 6]]\n"
     ]
    }
   ],
   "source": [
    "print(\"Swapped array:\") \n",
    "print(swapped_arr)"
   ]
  }
 ],
 "metadata": {
  "kernelspec": {
   "display_name": "Python 3 (ipykernel)",
   "language": "python",
   "name": "python3"
  },
  "language_info": {
   "codemirror_mode": {
    "name": "ipython",
    "version": 3
   },
   "file_extension": ".py",
   "mimetype": "text/x-python",
   "name": "python",
   "nbconvert_exporter": "python",
   "pygments_lexer": "ipython3",
   "version": "3.12.7"
  }
 },
 "nbformat": 4,
 "nbformat_minor": 5
}
